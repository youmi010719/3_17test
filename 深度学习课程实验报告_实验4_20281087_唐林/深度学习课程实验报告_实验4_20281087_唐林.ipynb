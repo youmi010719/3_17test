{
 "cells": [
  {
   "cell_type": "markdown",
   "id": "202e88c9",
   "metadata": {},
   "source": [
    "# 基本信息\n",
    "1. 实验名称：卷积神经网络实验\n",
    "2. 姓名：唐林\n",
    "3. 学号：20281087\n",
    "4. 日期：2022.12.12"
   ]
  },
  {
   "cell_type": "code",
   "execution_count": null,
   "id": "7238b4ed",
   "metadata": {},
   "outputs": [],
   "source": [
    "# 一、任务1\n",
    "\n",
    "## 1.1 任务内容\n",
    "\n",
    "1. 手写二维卷积的实现，并从至少一个数据集上进行实验，这里我选取了车辆分类数据集（后面的实验都是用的车辆分类数据集），主要根据数据集的大小，手动定义二维卷积操作，如：自定义单通道卷积、自定义多通道卷积、自定义卷积层等。\n",
    "2. 任务目的：手写二维卷积的实现，并在至少一个数据集上进行实验，从训练时间、预测精度、Loss变化等角度分析实验结果（最好使用图表展示）（只用循环几轮即可）\n",
    "3.使用torch.nn实现二维卷积，并在至少一个数据集上进行实验，从训练时间、预测精度、Loss变化等角度分析实验结果（最好使用图表展示）不同超参数的对比分析（包括卷积层数、卷积核大小、batchsize、lr等）选其中至少1-2个进行分析\n",
    "4. 任务算法或原理介绍：在实验代码中有部分介绍，课件里面也有，这里不做过多的解释\n",
    "5. 任务所用数据集（若此前已介绍过则可略）\n",
    "\n",
    "## 1.2 任务思路及代码\n",
    "\n",
    "> 以文本步骤的形式简要介绍代码思路\n",
    "1. 步骤1：基本思路就是按照课件里面的步骤。先做好准备工作：读取数据集,定义卷积运算，定义填充和步幅，实现多通道输入和输出，自定义池化，封装卷积层，搭建神经网络\n",
    "2. 步骤2：针对不同的要求，定义相应的要求，定义训练和测试函数，并进行训练和测试。\n",
    "3. ……"
   ]
  },
  {
   "cell_type": "markdown",
   "id": "cf0f33d7",
   "metadata": {},
   "source": [
    "## 卷积神经网络实现车辆分类"
   ]
  },
  {
   "cell_type": "markdown",
   "id": "6e4217b7",
   "metadata": {},
   "source": [
    "### 预处理"
   ]
  },
  {
   "cell_type": "code",
   "execution_count": 1,
   "id": "3e63962a",
   "metadata": {},
   "outputs": [],
   "source": [
    "import os\n",
    "import random\n",
    "import numpy as np\n",
    "import matplotlib.pyplot as plt\n",
    "from PIL import Image"
   ]
  },
  {
   "cell_type": "markdown",
   "id": "4b8bda5a",
   "metadata": {},
   "source": [
    "#### 读取数据集"
   ]
  },
  {
   "cell_type": "code",
   "execution_count": 2,
   "id": "fb3b2dd2",
   "metadata": {},
   "outputs": [],
   "source": [
    "def read_data(path):\n",
    "\tfile_name = os.listdir(path)\n",
    "\tprint(file_name)\n",
    "\tnums = []\n",
    "\tfor i in range(len(file_name)):\n",
    "\t\tdir = path + '//' + file_name[i]\n",
    "\t\tdcon = os.listdir(dir)\n",
    "\t\tnums.append(len(dcon))\n",
    "\ttrain_data = []\n",
    "\ttrain_labels = []\n",
    "\ttest_data = []\n",
    "\ttest_labels = []\n",
    "\n",
    "\ttrain_num = [int(num * 4 / 5) for num in nums]\n",
    "\ttest_num = [nums[i] - train_num[i] for i in range(len(nums))]\n",
    "\tprint(train_num, test_num)\n",
    "\tfor idx, name in enumerate(file_name):\n",
    "\t\tim_dirs = path + '/' + name\n",
    "\t\tim_path = os.listdir(im_dirs)\n",
    "\n",
    "\t\tindex = list(range(len(im_path)))\n",
    "\t\trandom.shuffle(index)\n",
    "\t\tim_path_ = list(np.array(im_path)[index])\n",
    "\t\ttest_path = im_path_[:test_num[idx]]\n",
    "\t\ttrain_path = im_path_[test_num[idx]:]\n",
    "\t\tfor img_name in train_path:\n",
    "\t\t\tif img_name == 'desktop.ini':\n",
    "\t\t\t\tcontinue\n",
    "\t\t\timg = Image.open(im_dirs + '/' + img_name)\n",
    "\t\t\ttrain_data.append(img)\n",
    "\t\t\ttrain_labels.append(idx)\n",
    "\t\tfor img_name in test_path:\n",
    "\t\t\tif img_name == 'desktop.ini':\n",
    "\t\t\t\tcontinue\n",
    "\t\t\timg = Image.open(im_dirs + '/' + img_name)\n",
    "\t\t\ttest_data.append(img)\n",
    "\t\t\ttest_labels.append(idx)\n",
    "\tprint(\"训练集大小：\", len(train_data), \"测试集大小：\", len(test_data))\n",
    "\treturn train_data, train_labels, test_data, test_labels"
   ]
  },
  {
   "cell_type": "code",
   "execution_count": 3,
   "id": "18183840",
   "metadata": {},
   "outputs": [
    {
     "name": "stdout",
     "output_type": "stream",
     "text": [
      "['bus', 'car', 'truck']\n",
      "[175, 623, 288] [44, 156, 72]\n",
      "训练集大小： 1086 测试集大小： 271\n"
     ]
    }
   ],
   "source": [
    "train_data, train_labels, test_data, test_labels = read_data('./vehicles/')"
   ]
  },
  {
   "cell_type": "markdown",
   "id": "6bdb7f50",
   "metadata": {},
   "source": [
    "#### 图像变换与生成数据集类"
   ]
  },
  {
   "cell_type": "code",
   "execution_count": 4,
   "id": "6ac4f157",
   "metadata": {},
   "outputs": [],
   "source": [
    "from torchvision import transforms"
   ]
  },
  {
   "cell_type": "code",
   "execution_count": 5,
   "id": "6282c24a",
   "metadata": {},
   "outputs": [],
   "source": [
    "transform = transforms.Compose([\n",
    "\ttransforms.Resize((64, 64)),\n",
    "\ttransforms.ToTensor(),\n",
    "\ttransforms.Normalize([0.5, 0.5, 0.5], [0.5, 0.5, 0.5])\n",
    "])"
   ]
  },
  {
   "cell_type": "code",
   "execution_count": 6,
   "id": "50aa43e3",
   "metadata": {},
   "outputs": [],
   "source": [
    "from torch.utils.data import Dataset\n",
    "class MyDataset(Dataset):\n",
    "\tdef __init__(self, data, label, trans):\n",
    "\t\tself.len = len(data)\n",
    "\t\tself.data = data\n",
    "\t\tself.label = label\n",
    "\t\tself.trans = trans\n",
    "\n",
    "\tdef __getitem__(self, index):\n",
    "\t\treturn self.trans(self.data[index]), self.label[index]\n",
    "\t\n",
    "\tdef __len__(self):\n",
    "\t\treturn self.len"
   ]
  },
  {
   "cell_type": "code",
   "execution_count": 7,
   "id": "86857f1d",
   "metadata": {},
   "outputs": [],
   "source": [
    "train_dataset = MyDataset(train_data, train_labels, transform)\n",
    "test_dataset = MyDataset(test_data, test_labels, transform)"
   ]
  },
  {
   "cell_type": "markdown",
   "id": "abcfa4a4",
   "metadata": {},
   "source": [
    "### 手动实现卷积网络"
   ]
  },
  {
   "cell_type": "markdown",
   "id": "782938c6",
   "metadata": {},
   "source": [
    "#### 定义卷积运算"
   ]
  },
  {
   "cell_type": "code",
   "execution_count": 8,
   "id": "95304dc2",
   "metadata": {},
   "outputs": [],
   "source": [
    "import torch\n",
    "from torch import nn"
   ]
  },
  {
   "cell_type": "code",
   "execution_count": 9,
   "id": "b62f73c1",
   "metadata": {},
   "outputs": [],
   "source": [
    "def corr2d(X, K):\n",
    "\tbatch_size, H, W = X.shape\n",
    "\tk_h, k_w = K.shape\n",
    "\tY = torch.zeros((batch_size, H - k_h + 1, W - k_w + 1)).to(device)\n",
    "\tfor i in range(Y.shape[1]):\n",
    "\t\tfor j in range(Y.shape[2]):\n",
    "\t\t\tY[:,i, j] = (X[:, i: i + k_h, j: j + k_w] * K).sum(dim=2).sum(dim=1)\n",
    "\treturn Y"
   ]
  },
  {
   "cell_type": "markdown",
   "id": "8ab4310e",
   "metadata": {},
   "source": [
    "#### 定义填充和步幅"
   ]
  },
  {
   "cell_type": "code",
   "execution_count": 10,
   "id": "180fe0ab",
   "metadata": {},
   "outputs": [],
   "source": [
    "def comp_conv2d(conv2d, X):\n",
    "\tX = X.view((1, 1) + X.shape)\n",
    "\tY = conv2d(X)\n",
    "\treturn Y.view(Y.shape[2:])"
   ]
  },
  {
   "cell_type": "markdown",
   "id": "b3295b18",
   "metadata": {},
   "source": [
    "#### 实现多通道输入"
   ]
  },
  {
   "cell_type": "code",
   "execution_count": 11,
   "id": "d0566240",
   "metadata": {},
   "outputs": [],
   "source": [
    "def corr2d_multi_in(X, K):\n",
    "\tres = corr2d(X[:,0,:,:], K[0, :, :])\n",
    "\tfor i in range(1, X.shape[1]):\n",
    "\t\tres += corr2d(X[:,i,:,:], K[i, :, :])\n",
    "\treturn res"
   ]
  },
  {
   "cell_type": "markdown",
   "id": "7dfd7982",
   "metadata": {},
   "source": [
    "#### 实现多通道输出"
   ]
  },
  {
   "cell_type": "code",
   "execution_count": 12,
   "id": "bbe558fa",
   "metadata": {},
   "outputs": [],
   "source": [
    "def corr2d_multi_in_out(X, K):\n",
    "\treturn torch.stack([corr2d_multi_in(X, k) for k in K], dim=1)"
   ]
  },
  {
   "cell_type": "markdown",
   "id": "819b5677",
   "metadata": {},
   "source": [
    "#### 自定义池化"
   ]
  },
  {
   "cell_type": "code",
   "execution_count": 13,
   "id": "5adb422d",
   "metadata": {},
   "outputs": [],
   "source": [
    "def pool2d(X, pool_size, mode='max'):\n",
    "\tX = X.float()\n",
    "\tp_h, p_w = pool_size\n",
    "\tY = torch.zeros(X.shape[0] - p_h + 1, X.shape[1] - p_w + 1)\n",
    "\tfor i in range(Y.shape[1]):\n",
    "\t\tif mode == 'max':\n",
    "\t\t\tY[i, j] = X[i: i + p_h, j: j + p_w].max()\n",
    "\t\telif mode == 'avg':\n",
    "\t\t\tY[i, j] = X[i: i + p_h, j: j + p_w].mean()\n",
    "\treturn Y"
   ]
  },
  {
   "cell_type": "markdown",
   "id": "957e8de8",
   "metadata": {},
   "source": [
    "#### 封装卷积层"
   ]
  },
  {
   "cell_type": "code",
   "execution_count": 14,
   "id": "b98db48e",
   "metadata": {},
   "outputs": [],
   "source": [
    "class MyConv2D(nn.Module):\n",
    "\tdef __init__(self, in_channels, out_channels, kernel_size):\n",
    "\t\tsuper(MyConv2D, self).__init__()\n",
    "\t\tif isinstance(kernel_size, int):\n",
    "\t\t\tkernel_size = (kernel_size, kernel_size)\n",
    "\t\tself.weight = nn.Parameter(torch.randn((out_channels, in_channels) + kernel_size))\n",
    "\t\tself.bias = nn.Parameter(torch.randn(out_channels, 1, 1))\n",
    "\t\n",
    "\tdef forward(self, x):\n",
    "\t\treturn corr2d_multi_in_out(x, self.weight) + self.bias"
   ]
  },
  {
   "cell_type": "markdown",
   "id": "91ac8d6b",
   "metadata": {},
   "source": [
    "#### 搭建神经网络"
   ]
  },
  {
   "cell_type": "code",
   "execution_count": 15,
   "id": "ac56638f",
   "metadata": {},
   "outputs": [],
   "source": [
    "import torch.nn.functional as F\n",
    "class MyConvModule(nn.Module):\n",
    "\tdef __init__(self):\n",
    "\t\tsuper(MyConvModule, self).__init__()\n",
    "\t\tself.conv = nn.Sequential(\n",
    "\t\t\tMyConv2D(in_channels=3, out_channels=32, kernel_size=3),\n",
    "\t\t\tnn.BatchNorm2d(32),\n",
    "\t\t\tnn.ReLU(inplace=True)\n",
    "\t\t)\n",
    "\t\tself.fc = nn.Linear(32, num_classes)\n",
    "\t\n",
    "\tdef forward(self, X):\n",
    "\t\tout = self.conv(X)\n",
    "\t\tout = F.avg_pool2d(out, 32)\n",
    "\t\tout = torch.squeeze(out)\n",
    "\t\tout = self.fc(out)\n",
    "\t\treturn out"
   ]
  },
  {
   "cell_type": "markdown",
   "id": "a3c6e193",
   "metadata": {},
   "source": [
    "#### 定义训练函数"
   ]
  },
  {
   "cell_type": "code",
   "execution_count": 18,
   "id": "875c5097",
   "metadata": {},
   "outputs": [],
   "source": [
    "def train_epoch(net, data_loader, device):\n",
    "\tnet.train()\n",
    "\ttrain_batch_num = len(data_loader)\n",
    "\ttotal_loss = 0\n",
    "\tcorrect = 0\n",
    "\tsample_num = 0\n",
    "\n",
    "\tfor batch_idx, (data, target) in enumerate(data_loader):\n",
    "\t\tdata = data.to(device).float()\n",
    "\t\ttarget = target.to(device).long()\n",
    "\t\toptimizer.zero_grad()\n",
    "\t\toutput = net(data)\n",
    "\t\tloss = criterion(output, target)\n",
    "\t\tloss.backward()\n",
    "\t\toptimizer.step()\n",
    "\t\ttotal_loss += loss.item()\n",
    "\t\tprediction = torch.argmax(output, 1)\n",
    "\t\tcorrect += (prediction == target).sum().item()\n",
    "\t\tsample_num += len(prediction)\n",
    "\tloss = total_loss / train_batch_num\n",
    "\tacc = correct / sample_num\n",
    "\treturn loss, acc"
   ]
  },
  {
   "cell_type": "markdown",
   "id": "f77b3541",
   "metadata": {},
   "source": [
    "#### 定义测试函数"
   ]
  },
  {
   "cell_type": "code",
   "execution_count": 19,
   "id": "efc515ec",
   "metadata": {},
   "outputs": [],
   "source": [
    "def test_epoch(net, data_loader, device):\n",
    "\tnet.eval()\n",
    "\ttest_batch_num = len(data_loader)\n",
    "\ttotal_loss = 0\n",
    "\tcorrect = 0\n",
    "\tsample_num = 0\n",
    "\twith torch.no_grad():\n",
    "\t\tfor batch_idx, (data, target) in enumerate(data_loader):\n",
    "\t\t\tdata = data.to(device).float()\n",
    "\t\t\ttarget = target.to(device).long()\n",
    "\t\t\toutput = net(data)\n",
    "\t\t\tloss = criterion(output, target)\n",
    "\t\t\ttotal_loss += loss.item()\n",
    "\t\t\tprediction = torch.argmax(output, 1)\n",
    "\t\t\tcorrect += (prediction == target).sum().item()\n",
    "\t\t\tsample_num += len(prediction)\n",
    "\tloss = total_loss / test_batch_num\n",
    "\tacc = correct / sample_num\n",
    "\treturn loss, acc"
   ]
  },
  {
   "cell_type": "markdown",
   "id": "54e5b61b",
   "metadata": {},
   "source": [
    "#### 训练和测试"
   ]
  },
  {
   "cell_type": "code",
   "execution_count": 20,
   "id": "0d38ddfd",
   "metadata": {},
   "outputs": [
    {
     "name": "stdout",
     "output_type": "stream",
     "text": [
      "17\n"
     ]
    }
   ],
   "source": [
    "classes = ('bus', 'car', 'truck')\n",
    "num_classes = 3\n",
    "lr = 0.01\n",
    "batch_size = 64\n",
    "device = torch.device(\"cuda:0\")\n",
    "vehicles_trainloader = torch.utils.data.DataLoader(train_dataset, batch_size=batch_size, shuffle=True, num_workers=0)\n",
    "vehicles_testloader = torch.utils.data.DataLoader(test_dataset, batch_size=batch_size, shuffle=True, num_workers=0)\n",
    "print(len(vehicles_trainloader))\n",
    "net = MyConvModule().to(device)\n",
    "criterion = nn.CrossEntropyLoss()\n",
    "optimizer = torch.optim.Adam(net.parameters(), lr=lr)"
   ]
  },
  {
   "cell_type": "code",
   "execution_count": 21,
   "id": "aa685679",
   "metadata": {},
   "outputs": [
    {
     "name": "stdout",
     "output_type": "stream",
     "text": [
      "epoch:0\t train_loss:0.9303\ttrain_acc:0.5626151012891344\ttest_loss:0.9286\t test_acc0.5793357933579336\n",
      "epoch:1\t train_loss:0.8053\ttrain_acc:0.6565377532228361\ttest_loss:0.8376\t test_acc0.7121771217712177\n",
      "epoch:2\t train_loss:0.7189\ttrain_acc:0.7228360957642725\ttest_loss:0.7230\t test_acc0.7601476014760148\n",
      "epoch:3\t train_loss:0.6797\ttrain_acc:0.7403314917127072\ttest_loss:0.7019\t test_acc0.7638376383763837\n",
      "epoch:4\t train_loss:0.6603\ttrain_acc:0.7587476979742173\ttest_loss:0.6614\t test_acc0.7675276752767528\n"
     ]
    }
   ],
   "source": [
    "train_loss_list = []\n",
    "train_acc_list = []\n",
    "test_loss_list = []\n",
    "test_acc_list = []\n",
    "epochs = 5\n",
    "for epoch in range(epochs):\n",
    "\ttrain_loss, train_acc = train_epoch(net, data_loader=vehicles_trainloader, device=device)\n",
    "\ttest_loss, test_acc = test_epoch(net, data_loader=vehicles_testloader, device=device)\n",
    "\ttrain_loss_list.append(train_loss)\n",
    "\ttrain_acc_list.append(train_acc)\n",
    "\ttest_loss_list.append(test_loss)\n",
    "\ttest_acc_list.append(test_acc)\n",
    "\tprint(f\"epoch:{epoch}\\t train_loss:{train_loss:.4f}\\t\"\n",
    "\tf\"train_acc:{train_acc}\\t\"\n",
    "\tf\"test_loss:{test_loss:.4f}\\t test_acc{test_acc}\")\n"
   ]
  },
  {
   "cell_type": "markdown",
   "id": "40dc9642",
   "metadata": {},
   "source": [
    "## 1.3 实验结果分析\n",
    "\n",
    "> 由于训练效率太低所以只跑了一轮。\n",
    "> 此时$Loss_{train}=0.8959, Accuracy_{train}=0.5853, Loss_{test}=0.8165, Accuracy_{test}=0.6177.$\n",
    "> 整体的准确率不高，而且训练时间很慢"
   ]
  },
  {
   "cell_type": "markdown",
   "id": "9bf3a7ac",
   "metadata": {},
   "source": [
    "## PyTorch实现卷积神经网络"
   ]
  },
  {
   "cell_type": "markdown",
   "id": "50a0b1ac",
   "metadata": {},
   "source": [
    "#### 搭建网络模型"
   ]
  },
  {
   "cell_type": "code",
   "execution_count": 77,
   "id": "cb630857",
   "metadata": {},
   "outputs": [],
   "source": [
    "class ConvModule(nn.Module):\n",
    "\tdef __init__(self):\n",
    "\t\tsuper(ConvModule, self).__init__()\n",
    "\t\tself.conv = nn.Sequential(\n",
    "\t\t\tnn.Conv2d(in_channels=3, out_channels=32, kernel_size=3, stride=1, padding=0),\n",
    "\t\t\tnn.BatchNorm2d(32),\n",
    "\t\t\tnn.ReLU(inplace=True),\n",
    "\t\t\tnn.Conv2d(in_channels=32, out_channels=64, kernel_size=3, stride=1, padding=0),\n",
    "\t\t\tnn.BatchNorm2d(64),\n",
    "\t\t\tnn.ReLU(inplace=True),\n",
    "\t\t\tnn.Conv2d(in_channels=64, out_channels=128, kernel_size=3, stride=1, padding=0),\n",
    "\t\t\tnn.BatchNorm2d(128),\n",
    "\t\t\tnn.ReLU(inplace=True)\n",
    "\t\t)\n",
    "\t\tself.fc = nn.Linear(128, num_classes)\n",
    "\t\n",
    "\tdef forward(self, X):\n",
    "\t\tout = self.conv(X)\n",
    "\t\tout = F.avg_pool2d(out, 32)\n",
    "\t\tout = torch.squeeze(out)\n",
    "\t\tout = self.fc(out)\n",
    "\t\treturn out\n",
    "\t\t"
   ]
  },
  {
   "cell_type": "markdown",
   "id": "be1e8f6c",
   "metadata": {},
   "source": [
    "#### 训练和测试"
   ]
  },
  {
   "cell_type": "code",
   "execution_count": 78,
   "id": "31899fbe",
   "metadata": {},
   "outputs": [
    {
     "name": "stdout",
     "output_type": "stream",
     "text": [
      "17\n"
     ]
    }
   ],
   "source": [
    "classes = ('bus', 'car', 'truck')\n",
    "num_classes = 3\n",
    "epochs = 50\n",
    "lr = 0.01\n",
    "batch_size = 64\n",
    "device = torch.device(\"cuda:0\")\n",
    "vehicles_trainloader = torch.utils.data.DataLoader(train_dataset, batch_size=batch_size, shuffle=True, num_workers=0)\n",
    "vehicles_testloader = torch.utils.data.DataLoader(test_dataset, batch_size=batch_size, shuffle=True, num_workers=0)\n",
    "print(len(vehicles_trainloader))\n",
    "net = ConvModule().to(device)\n",
    "criterion = nn.CrossEntropyLoss()\n",
    "optimizer = torch.optim.Adam(net.parameters(), lr=lr)"
   ]
  },
  {
   "cell_type": "code",
   "execution_count": 79,
   "id": "deffa94f",
   "metadata": {},
   "outputs": [
    {
     "name": "stdout",
     "output_type": "stream",
     "text": [
      "epoch:0\t train_loss:0.6874\ttrain_acc:0.7345622119815668\ttest_loss:0.6168\t test_acc0.7683823529411765\n",
      "epoch:1\t train_loss:0.5310\ttrain_acc:0.7907834101382488\ttest_loss:0.5641\t test_acc0.8014705882352942\n",
      "epoch:2\t train_loss:0.5082\ttrain_acc:0.8064516129032258\ttest_loss:0.7070\t test_acc0.7279411764705882\n",
      "epoch:3\t train_loss:0.4915\ttrain_acc:0.8073732718894009\ttest_loss:0.5882\t test_acc0.7683823529411765\n",
      "epoch:4\t train_loss:0.4408\ttrain_acc:0.8175115207373271\ttest_loss:0.4496\t test_acc0.8198529411764706\n",
      "epoch:5\t train_loss:0.4554\ttrain_acc:0.815668202764977\ttest_loss:0.6174\t test_acc0.7830882352941176\n",
      "epoch:6\t train_loss:0.4587\ttrain_acc:0.8147465437788018\ttest_loss:0.4844\t test_acc0.7720588235294118\n",
      "epoch:7\t train_loss:0.4296\ttrain_acc:0.8230414746543778\ttest_loss:0.5953\t test_acc0.7867647058823529\n",
      "epoch:8\t train_loss:0.3931\ttrain_acc:0.8451612903225807\ttest_loss:0.3776\t test_acc0.8198529411764706\n",
      "epoch:9\t train_loss:0.3765\ttrain_acc:0.8552995391705069\ttest_loss:0.4208\t test_acc0.8492647058823529\n",
      "epoch:10\t train_loss:0.3822\ttrain_acc:0.8543778801843318\ttest_loss:0.4124\t test_acc0.8382352941176471\n",
      "epoch:11\t train_loss:0.3435\ttrain_acc:0.8783410138248848\ttest_loss:0.5192\t test_acc0.8308823529411765\n",
      "epoch:12\t train_loss:0.3231\ttrain_acc:0.880184331797235\ttest_loss:0.5203\t test_acc0.8014705882352942\n",
      "epoch:13\t train_loss:0.3089\ttrain_acc:0.8903225806451613\ttest_loss:0.4256\t test_acc0.8198529411764706\n",
      "epoch:14\t train_loss:0.3316\ttrain_acc:0.8755760368663594\ttest_loss:0.3654\t test_acc0.8419117647058824\n",
      "epoch:15\t train_loss:0.3042\ttrain_acc:0.8930875576036866\ttest_loss:0.3007\t test_acc0.8602941176470589\n",
      "epoch:16\t train_loss:0.2914\ttrain_acc:0.8884792626728111\ttest_loss:0.3927\t test_acc0.8382352941176471\n",
      "epoch:17\t train_loss:0.2635\ttrain_acc:0.904147465437788\ttest_loss:0.3768\t test_acc0.8455882352941176\n",
      "epoch:18\t train_loss:0.2973\ttrain_acc:0.8976958525345622\ttest_loss:0.3551\t test_acc0.8529411764705882\n",
      "epoch:19\t train_loss:0.2676\ttrain_acc:0.9096774193548387\ttest_loss:0.3407\t test_acc0.8786764705882353\n",
      "epoch:20\t train_loss:0.2399\ttrain_acc:0.9142857142857143\ttest_loss:0.6678\t test_acc0.7867647058823529\n",
      "epoch:21\t train_loss:0.2476\ttrain_acc:0.9124423963133641\ttest_loss:0.4073\t test_acc0.8419117647058824\n",
      "epoch:22\t train_loss:0.2449\ttrain_acc:0.904147465437788\ttest_loss:0.3098\t test_acc0.8860294117647058\n",
      "epoch:23\t train_loss:0.2184\ttrain_acc:0.9225806451612903\ttest_loss:0.2580\t test_acc0.8970588235294118\n",
      "epoch:24\t train_loss:0.2191\ttrain_acc:0.9235023041474655\ttest_loss:0.3296\t test_acc0.8639705882352942\n",
      "epoch:25\t train_loss:0.2205\ttrain_acc:0.9216589861751152\ttest_loss:0.3215\t test_acc0.8529411764705882\n",
      "epoch:26\t train_loss:0.2904\ttrain_acc:0.8940092165898618\ttest_loss:0.3171\t test_acc0.8639705882352942\n",
      "epoch:27\t train_loss:0.2430\ttrain_acc:0.9087557603686636\ttest_loss:0.3032\t test_acc0.8639705882352942\n",
      "epoch:28\t train_loss:0.2176\ttrain_acc:0.9244239631336405\ttest_loss:0.2821\t test_acc0.9007352941176471\n",
      "epoch:29\t train_loss:0.2218\ttrain_acc:0.9179723502304148\ttest_loss:0.4537\t test_acc0.8308823529411765\n",
      "epoch:30\t train_loss:0.2144\ttrain_acc:0.9225806451612903\ttest_loss:0.3086\t test_acc0.8897058823529411\n",
      "epoch:31\t train_loss:0.1888\ttrain_acc:0.9354838709677419\ttest_loss:0.2252\t test_acc0.9080882352941176\n",
      "epoch:32\t train_loss:0.1744\ttrain_acc:0.9382488479262673\ttest_loss:0.2560\t test_acc0.8860294117647058\n",
      "epoch:33\t train_loss:0.2042\ttrain_acc:0.9188940092165898\ttest_loss:1.5776\t test_acc0.5845588235294118\n",
      "epoch:34\t train_loss:0.2067\ttrain_acc:0.9188940092165898\ttest_loss:0.3003\t test_acc0.8897058823529411\n",
      "epoch:35\t train_loss:0.1870\ttrain_acc:0.9317972350230415\ttest_loss:0.2804\t test_acc0.8933823529411765\n",
      "epoch:36\t train_loss:0.1783\ttrain_acc:0.943778801843318\ttest_loss:0.2349\t test_acc0.9044117647058824\n",
      "epoch:37\t train_loss:0.1651\ttrain_acc:0.9447004608294931\ttest_loss:0.4532\t test_acc0.8676470588235294\n",
      "epoch:38\t train_loss:0.1882\ttrain_acc:0.9391705069124424\ttest_loss:0.2656\t test_acc0.8933823529411765\n",
      "epoch:39\t train_loss:0.1636\ttrain_acc:0.9391705069124424\ttest_loss:1.0018\t test_acc0.7720588235294118\n",
      "epoch:40\t train_loss:0.1941\ttrain_acc:0.9271889400921659\ttest_loss:0.2256\t test_acc0.9117647058823529\n",
      "epoch:41\t train_loss:0.1734\ttrain_acc:0.9400921658986175\ttest_loss:0.3307\t test_acc0.875\n",
      "epoch:42\t train_loss:0.1578\ttrain_acc:0.9447004608294931\ttest_loss:0.7331\t test_acc0.7573529411764706\n",
      "epoch:43\t train_loss:0.1811\ttrain_acc:0.9327188940092166\ttest_loss:0.2507\t test_acc0.8897058823529411\n",
      "epoch:44\t train_loss:0.1519\ttrain_acc:0.9493087557603687\ttest_loss:0.3086\t test_acc0.8897058823529411\n",
      "epoch:45\t train_loss:0.1543\ttrain_acc:0.943778801843318\ttest_loss:0.3207\t test_acc0.8676470588235294\n",
      "epoch:46\t train_loss:0.1388\ttrain_acc:0.9511520737327189\ttest_loss:0.2984\t test_acc0.9080882352941176\n",
      "epoch:47\t train_loss:0.1308\ttrain_acc:0.9539170506912442\ttest_loss:0.2056\t test_acc0.9301470588235294\n",
      "epoch:48\t train_loss:0.1238\ttrain_acc:0.9548387096774194\ttest_loss:0.2315\t test_acc0.9264705882352942\n",
      "epoch:49\t train_loss:0.1063\ttrain_acc:0.9649769585253456\ttest_loss:0.2748\t test_acc0.9117647058823529\n"
     ]
    }
   ],
   "source": [
    "train_loss_list = []\n",
    "train_acc_list = []\n",
    "test_loss_list = []\n",
    "test_acc_list = []\n",
    "\n",
    "for epoch in range(epochs):\n",
    "\ttrain_loss, train_acc = train_epoch(net, data_loader=vehicles_trainloader, device=device)\n",
    "\ttest_loss, test_acc = test_epoch(net, data_loader=vehicles_testloader, device=device)\n",
    "\ttrain_loss_list.append(train_loss)\n",
    "\ttrain_acc_list.append(train_acc)\n",
    "\ttest_loss_list.append(test_loss)\n",
    "\ttest_acc_list.append(test_acc)\n",
    "\tprint(f\"epoch:{epoch}\\t train_loss:{train_loss:.4f}\\t\"\n",
    "\tf\"train_acc:{train_acc}\\t\"\n",
    "\tf\"test_loss:{test_loss:.4f}\\t test_acc{test_acc}\")"
   ]
  },
  {
   "cell_type": "markdown",
   "id": "a94e54a5",
   "metadata": {},
   "source": [
    "#### 绘制图表"
   ]
  },
  {
   "cell_type": "markdown",
   "id": "409794fd",
   "metadata": {},
   "source": [
    "LOSS曲线"
   ]
  },
  {
   "cell_type": "code",
   "execution_count": 80,
   "id": "26080f59",
   "metadata": {},
   "outputs": [
    {
     "data": {
      "image/png": "[encoded data removed]",
      "text/plain": [
       "<Figure size 432x288 with 1 Axes>"
      ]
     },
     "metadata": {
      "needs_background": "light"
     },
     "output_type": "display_data"
    }
   ],
   "source": [
    "epoch_list = np.arange(1, 51)\n",
    "plt.plot(epoch_list, train_loss_list, color='red', linewidth=1.0, label='Train')\n",
    "plt.plot(epoch_list, test_loss_list, color='blue', linewidth=1.0, label='Test')\n",
    "plt.xlabel('Epochs')\n",
    "plt.ylabel('Loss')\n",
    "plt.legend()\n",
    "plt.show()"
   ]
  },
  {
   "cell_type": "markdown",
   "id": "4287b119",
   "metadata": {},
   "source": [
    "ACCURACY曲线"
   ]
  },
  {
   "cell_type": "code",
   "execution_count": 81,
   "id": "06b88ba2",
   "metadata": {},
   "outputs": [
    {
     "data": {
      "image/png": "[encoded data removed]",
      "text/plain": [
       "<Figure size 432x288 with 1 Axes>"
      ]
     },
     "metadata": {
      "needs_background": "light"
     },
     "output_type": "display_data"
    }
   ],
   "source": [
    "plt.plot(epoch_list, train_acc_list, color='red', linewidth=1.0, label='Train')\n",
    "plt.plot(epoch_list, test_acc_list, color='blue', linewidth=1.0, label='Test')\n",
    "plt.xlabel('Epochs')\n",
    "plt.ylabel('Accuracy')\n",
    "plt.legend()\n",
    "plt.show()"
   ]
  },
  {
   "cell_type": "markdown",
   "id": "7d1a8bd5",
   "metadata": {},
   "source": [
    "### 改变超参并对比"
   ]
  },
  {
   "cell_type": "markdown",
   "id": "338eb37a",
   "metadata": {},
   "source": [
    "改变学习率为0.001"
   ]
  },
  {
   "cell_type": "code",
   "execution_count": 82,
   "id": "975d26bc",
   "metadata": {},
   "outputs": [
    {
     "name": "stdout",
     "output_type": "stream",
     "text": [
      "17\n"
     ]
    }
   ],
   "source": [
    "classes = ('bus', 'car', 'truck')\n",
    "num_classes = 3\n",
    "epochs = 50\n",
    "lr = 0.001\n",
    "batch_size = 64\n",
    "device = torch.device(\"cuda:0\")\n",
    "vehicles_trainloader = torch.utils.data.DataLoader(train_dataset, batch_size=batch_size, shuffle=True, num_workers=0)\n",
    "vehicles_testloader = torch.utils.data.DataLoader(test_dataset, batch_size=batch_size, shuffle=True, num_workers=0)\n",
    "print(len(vehicles_trainloader))\n",
    "net = ConvModule().to(device)\n",
    "criterion = nn.CrossEntropyLoss()\n",
    "optimizer = torch.optim.Adam(net.parameters(), lr=lr)"
   ]
  },
  {
   "cell_type": "code",
   "execution_count": 83,
   "id": "0c6f8ba2",
   "metadata": {},
   "outputs": [
    {
     "name": "stdout",
     "output_type": "stream",
     "text": [
      "epoch:0\t train_loss:0.6800\ttrain_acc:0.7400921658986175\ttest_loss:0.7870\t test_acc0.7058823529411765\n",
      "epoch:1\t train_loss:0.5240\ttrain_acc:0.7972350230414746\ttest_loss:0.5738\t test_acc0.7941176470588235\n",
      "epoch:2\t train_loss:0.4651\ttrain_acc:0.823963133640553\ttest_loss:0.5215\t test_acc0.7794117647058824\n",
      "epoch:3\t train_loss:0.4133\ttrain_acc:0.8488479262672811\ttest_loss:0.4455\t test_acc0.8639705882352942\n",
      "epoch:4\t train_loss:0.3613\ttrain_acc:0.8709677419354839\ttest_loss:0.3400\t test_acc0.8639705882352942\n",
      "epoch:5\t train_loss:0.3407\ttrain_acc:0.8829493087557604\ttest_loss:0.3279\t test_acc0.8676470588235294\n",
      "epoch:6\t train_loss:0.3172\ttrain_acc:0.8894009216589862\ttest_loss:0.3408\t test_acc0.8492647058823529\n",
      "epoch:7\t train_loss:0.3039\ttrain_acc:0.9032258064516129\ttest_loss:0.3014\t test_acc0.8676470588235294\n",
      "epoch:8\t train_loss:0.2924\ttrain_acc:0.9023041474654377\ttest_loss:0.4809\t test_acc0.8014705882352942\n",
      "epoch:9\t train_loss:0.3104\ttrain_acc:0.8921658986175115\ttest_loss:0.3132\t test_acc0.8566176470588235\n",
      "epoch:10\t train_loss:0.2818\ttrain_acc:0.904147465437788\ttest_loss:0.3308\t test_acc0.8639705882352942\n",
      "epoch:11\t train_loss:0.2658\ttrain_acc:0.9087557603686636\ttest_loss:0.2780\t test_acc0.8823529411764706\n",
      "epoch:12\t train_loss:0.2507\ttrain_acc:0.9152073732718894\ttest_loss:0.3545\t test_acc0.8639705882352942\n",
      "epoch:13\t train_loss:0.2616\ttrain_acc:0.9069124423963134\ttest_loss:0.3028\t test_acc0.8860294117647058\n",
      "epoch:14\t train_loss:0.2409\ttrain_acc:0.9170506912442397\ttest_loss:0.2877\t test_acc0.8860294117647058\n",
      "epoch:15\t train_loss:0.2575\ttrain_acc:0.9124423963133641\ttest_loss:0.5423\t test_acc0.8088235294117647\n",
      "epoch:16\t train_loss:0.2424\ttrain_acc:0.9142857142857143\ttest_loss:0.2976\t test_acc0.875\n",
      "epoch:17\t train_loss:0.2285\ttrain_acc:0.9253456221198156\ttest_loss:0.2307\t test_acc0.9154411764705882\n",
      "epoch:18\t train_loss:0.2149\ttrain_acc:0.919815668202765\ttest_loss:0.2490\t test_acc0.8933823529411765\n",
      "epoch:19\t train_loss:0.1996\ttrain_acc:0.9336405529953917\ttest_loss:0.2357\t test_acc0.9007352941176471\n",
      "epoch:20\t train_loss:0.2008\ttrain_acc:0.9299539170506912\ttest_loss:0.3083\t test_acc0.8492647058823529\n",
      "epoch:21\t train_loss:0.2100\ttrain_acc:0.9262672811059908\ttest_loss:0.6090\t test_acc0.7426470588235294\n",
      "epoch:22\t train_loss:0.1903\ttrain_acc:0.9354838709677419\ttest_loss:0.2482\t test_acc0.9117647058823529\n",
      "epoch:23\t train_loss:0.2015\ttrain_acc:0.9336405529953917\ttest_loss:0.2771\t test_acc0.8786764705882353\n",
      "epoch:24\t train_loss:0.1925\ttrain_acc:0.9354838709677419\ttest_loss:0.2784\t test_acc0.8860294117647058\n",
      "epoch:25\t train_loss:0.1922\ttrain_acc:0.9271889400921659\ttest_loss:0.2703\t test_acc0.8786764705882353\n",
      "epoch:26\t train_loss:0.1961\ttrain_acc:0.9317972350230415\ttest_loss:0.3262\t test_acc0.8897058823529411\n",
      "epoch:27\t train_loss:0.1745\ttrain_acc:0.9336405529953917\ttest_loss:0.2074\t test_acc0.9007352941176471\n",
      "epoch:28\t train_loss:0.1804\ttrain_acc:0.936405529953917\ttest_loss:0.2353\t test_acc0.9007352941176471\n",
      "epoch:29\t train_loss:0.1655\ttrain_acc:0.9400921658986175\ttest_loss:0.1706\t test_acc0.9191176470588235\n",
      "epoch:30\t train_loss:0.1520\ttrain_acc:0.9529953917050691\ttest_loss:0.1936\t test_acc0.9117647058823529\n",
      "epoch:31\t train_loss:0.1524\ttrain_acc:0.9465437788018434\ttest_loss:0.1926\t test_acc0.9080882352941176\n",
      "epoch:32\t train_loss:0.1564\ttrain_acc:0.9419354838709677\ttest_loss:0.2192\t test_acc0.8970588235294118\n",
      "epoch:33\t train_loss:0.1567\ttrain_acc:0.9428571428571428\ttest_loss:0.2992\t test_acc0.8860294117647058\n",
      "epoch:34\t train_loss:0.1625\ttrain_acc:0.9410138248847926\ttest_loss:0.2640\t test_acc0.8713235294117647\n",
      "epoch:35\t train_loss:0.1478\ttrain_acc:0.9511520737327189\ttest_loss:0.1968\t test_acc0.9338235294117647\n",
      "epoch:36\t train_loss:0.1432\ttrain_acc:0.9493087557603687\ttest_loss:0.2070\t test_acc0.9007352941176471\n",
      "epoch:37\t train_loss:0.1482\ttrain_acc:0.9511520737327189\ttest_loss:0.2275\t test_acc0.8970588235294118\n",
      "epoch:38\t train_loss:0.1511\ttrain_acc:0.9502304147465438\ttest_loss:0.3156\t test_acc0.8897058823529411\n",
      "epoch:39\t train_loss:0.1541\ttrain_acc:0.9382488479262673\ttest_loss:0.2272\t test_acc0.9044117647058824\n",
      "epoch:40\t train_loss:0.1517\ttrain_acc:0.9483870967741935\ttest_loss:0.2244\t test_acc0.8970588235294118\n",
      "epoch:41\t train_loss:0.1617\ttrain_acc:0.9456221198156682\ttest_loss:0.1615\t test_acc0.9411764705882353\n",
      "epoch:42\t train_loss:0.1396\ttrain_acc:0.9529953917050691\ttest_loss:0.2593\t test_acc0.8860294117647058\n",
      "epoch:43\t train_loss:0.1267\ttrain_acc:0.9520737327188941\ttest_loss:0.2501\t test_acc0.9191176470588235\n",
      "epoch:44\t train_loss:0.1316\ttrain_acc:0.9520737327188941\ttest_loss:0.2143\t test_acc0.9191176470588235\n",
      "epoch:45\t train_loss:0.1244\ttrain_acc:0.9566820276497696\ttest_loss:0.2204\t test_acc0.9227941176470589\n",
      "epoch:46\t train_loss:0.1361\ttrain_acc:0.9474654377880184\ttest_loss:0.1975\t test_acc0.9227941176470589\n",
      "epoch:47\t train_loss:0.1292\ttrain_acc:0.9576036866359448\ttest_loss:0.2404\t test_acc0.9117647058823529\n",
      "epoch:48\t train_loss:0.1364\ttrain_acc:0.9511520737327189\ttest_loss:0.1722\t test_acc0.9338235294117647\n",
      "epoch:49\t train_loss:0.1245\ttrain_acc:0.9576036866359448\ttest_loss:0.1811\t test_acc0.9338235294117647\n"
     ]
    }
   ],
   "source": [
    "train_loss_list = []\n",
    "train_acc_list = []\n",
    "test_loss_list = []\n",
    "test_acc_list = []\n",
    "\n",
    "for epoch in range(epochs):\n",
    "\ttrain_loss, train_acc = train_epoch(net, data_loader=vehicles_trainloader, device=device)\n",
    "\ttest_loss, test_acc = test_epoch(net, data_loader=vehicles_testloader, device=device)\n",
    "\ttrain_loss_list.append(train_loss)\n",
    "\ttrain_acc_list.append(train_acc)\n",
    "\ttest_loss_list.append(test_loss)\n",
    "\ttest_acc_list.append(test_acc)\n",
    "\tprint(f\"epoch:{epoch}\\t train_loss:{train_loss:.4f}\\t\"\n",
    "\tf\"train_acc:{train_acc}\\t\"\n",
    "\tf\"test_loss:{test_loss:.4f}\\t test_acc{test_acc}\")"
   ]
  },
  {
   "cell_type": "markdown",
   "id": "8c83a134",
   "metadata": {},
   "source": [
    "#### 绘制曲线"
   ]
  },
  {
   "cell_type": "markdown",
   "id": "80f8dd74",
   "metadata": {},
   "source": [
    "LOSS曲线"
   ]
  },
  {
   "cell_type": "code",
   "execution_count": 84,
   "id": "60a1458b",
   "metadata": {},
   "outputs": [
    {
     "data": {
      "image/png": "[encoded data removed]",
      "text/plain": [
       "<Figure size 432x288 with 1 Axes>"
      ]
     },
     "metadata": {
      "needs_background": "light"
     },
     "output_type": "display_data"
    }
   ],
   "source": [
    "epoch_list = np.arange(1, 51)\n",
    "plt.plot(epoch_list, train_loss_list, color='red', linewidth=1.0, label='Train')\n",
    "plt.plot(epoch_list, test_loss_list, color='blue', linewidth=1.0, label='Test')\n",
    "plt.xlabel('Epochs')\n",
    "plt.ylabel('Loss')\n",
    "plt.legend()\n",
    "plt.show()"
   ]
  },
  {
   "cell_type": "markdown",
   "id": "06adb6a6",
   "metadata": {},
   "source": [
    "ACCURACY曲线"
   ]
  },
  {
   "cell_type": "code",
   "execution_count": 85,
   "id": "ccdfc6ea",
   "metadata": {},
   "outputs": [
    {
     "data": {
      "image/png": "[encoded data removed]",
      "text/plain": [
       "<Figure size 432x288 with 1 Axes>"
      ]
     },
     "metadata": {
      "needs_background": "light"
     },
     "output_type": "display_data"
    }
   ],
   "source": [
    "plt.plot(epoch_list, train_acc_list, color='red', linewidth=1.0, label='Train')\n",
    "plt.plot(epoch_list, test_acc_list, color='blue', linewidth=1.0, label='Test')\n",
    "plt.xlabel('Epochs')\n",
    "plt.ylabel('Accuracy')\n",
    "plt.legend()\n",
    "plt.show()"
   ]
  },
  {
   "cell_type": "markdown",
   "id": "7cdb7513",
   "metadata": {},
   "source": [
    "### 结果分析-调整学习率\n",
    "> 将学习率调整为0.001后，LOSS下降以及ACC上升的更加缓慢，原因应该是在梯度下降中一次参数更新的值较小，所以这些值变化的相比LR=0.01要慢。"
   ]
  },
  {
   "cell_type": "markdown",
   "id": "5ea340ee",
   "metadata": {},
   "source": [
    "#### 改变卷积层参数"
   ]
  },
  {
   "cell_type": "code",
   "execution_count": 86,
   "id": "3b5f50a6",
   "metadata": {},
   "outputs": [],
   "source": [
    "class ConvModule(nn.Module):\n",
    "\tdef __init__(self):\n",
    "\t\tsuper(ConvModule, self).__init__()\n",
    "\t\tself.conv = nn.Sequential(\n",
    "\t\t\tnn.Conv2d(in_channels=3, out_channels=64, kernel_size=3, stride=1, padding=0),\n",
    "\t\t\tnn.BatchNorm2d(64),\n",
    "\t\t\tnn.ReLU(inplace=True),\n",
    "\t\t\tnn.Conv2d(in_channels=64, out_channels=128, kernel_size=3, stride=1, padding=0),\n",
    "\t\t\tnn.BatchNorm2d(128),\n",
    "\t\t\tnn.ReLU(inplace=True),\n",
    "\t\t\tnn.Conv2d(in_channels=128, out_channels=256, kernel_size=3, stride=1, padding=0),\n",
    "\t\t\tnn.BatchNorm2d(256),\n",
    "\t\t\tnn.ReLU(inplace=True)\n",
    "\t\t)\n",
    "\t\tself.fc = nn.Linear(256, num_classes)\n",
    "\t\n",
    "\tdef forward(self, X):\n",
    "\t\tout = self.conv(X)\n",
    "\t\tout = F.avg_pool2d(out, 32)\n",
    "\t\tout = torch.squeeze(out)\n",
    "\t\tout = self.fc(out)\n",
    "\t\treturn out"
   ]
  },
  {
   "cell_type": "code",
   "execution_count": 87,
   "id": "12250acc",
   "metadata": {},
   "outputs": [
    {
     "name": "stdout",
     "output_type": "stream",
     "text": [
      "17\n"
     ]
    }
   ],
   "source": [
    "classes = ('bus', 'car', 'truck')\n",
    "num_classes = 3\n",
    "epochs = 50\n",
    "lr = 0.01\n",
    "batch_size = 64\n",
    "device = torch.device(\"cuda:0\")\n",
    "vehicles_trainloader = torch.utils.data.DataLoader(train_dataset, batch_size=batch_size, shuffle=True, num_workers=0)\n",
    "vehicles_testloader = torch.utils.data.DataLoader(test_dataset, batch_size=batch_size, shuffle=True, num_workers=0)\n",
    "print(len(vehicles_trainloader))\n",
    "net = ConvModule().to(device)\n",
    "criterion = nn.CrossEntropyLoss()\n",
    "optimizer = torch.optim.Adam(net.parameters(), lr=lr)"
   ]
  },
  {
   "cell_type": "code",
   "execution_count": 88,
   "id": "8494c833",
   "metadata": {},
   "outputs": [
    {
     "name": "stdout",
     "output_type": "stream",
     "text": [
      "epoch:0\t train_loss:0.8318\ttrain_acc:0.6433179723502304\ttest_loss:0.7356\t test_acc0.7536764705882353\n",
      "epoch:1\t train_loss:0.6119\ttrain_acc:0.7741935483870968\ttest_loss:0.5261\t test_acc0.7830882352941176\n",
      "epoch:2\t train_loss:0.5325\ttrain_acc:0.8119815668202764\ttest_loss:0.8404\t test_acc0.7058823529411765\n",
      "epoch:3\t train_loss:0.5020\ttrain_acc:0.7907834101382488\ttest_loss:0.5859\t test_acc0.7720588235294118\n",
      "epoch:4\t train_loss:0.4471\ttrain_acc:0.8294930875576036\ttest_loss:0.4643\t test_acc0.8014705882352942\n",
      "epoch:5\t train_loss:0.4266\ttrain_acc:0.8341013824884793\ttest_loss:0.5486\t test_acc0.7794117647058824\n",
      "epoch:6\t train_loss:0.3956\ttrain_acc:0.8460829493087557\ttest_loss:0.3643\t test_acc0.8455882352941176\n",
      "epoch:7\t train_loss:0.3952\ttrain_acc:0.8516129032258064\ttest_loss:0.4465\t test_acc0.8235294117647058\n",
      "epoch:8\t train_loss:0.3620\ttrain_acc:0.8746543778801843\ttest_loss:0.4036\t test_acc0.8419117647058824\n",
      "epoch:9\t train_loss:0.3536\ttrain_acc:0.8599078341013825\ttest_loss:0.5935\t test_acc0.75\n",
      "epoch:10\t train_loss:0.3427\ttrain_acc:0.871889400921659\ttest_loss:0.4127\t test_acc0.8382352941176471\n",
      "epoch:11\t train_loss:0.3085\ttrain_acc:0.8875576036866359\ttest_loss:0.4170\t test_acc0.8308823529411765\n",
      "epoch:12\t train_loss:0.3457\ttrain_acc:0.864516129032258\ttest_loss:0.4645\t test_acc0.8602941176470589\n",
      "epoch:13\t train_loss:0.3081\ttrain_acc:0.8829493087557604\ttest_loss:0.3395\t test_acc0.8492647058823529\n",
      "epoch:14\t train_loss:0.3296\ttrain_acc:0.8764976958525346\ttest_loss:0.4491\t test_acc0.8602941176470589\n",
      "epoch:15\t train_loss:0.3165\ttrain_acc:0.8774193548387097\ttest_loss:0.3658\t test_acc0.8676470588235294\n",
      "epoch:16\t train_loss:0.2791\ttrain_acc:0.8995391705069125\ttest_loss:0.4339\t test_acc0.8345588235294118\n",
      "epoch:17\t train_loss:0.2963\ttrain_acc:0.8875576036866359\ttest_loss:0.3925\t test_acc0.8602941176470589\n",
      "epoch:18\t train_loss:0.2590\ttrain_acc:0.9059907834101383\ttest_loss:0.3936\t test_acc0.8419117647058824\n",
      "epoch:19\t train_loss:0.2757\ttrain_acc:0.9059907834101383\ttest_loss:0.3278\t test_acc0.8860294117647058\n",
      "epoch:20\t train_loss:0.2661\ttrain_acc:0.896774193548387\ttest_loss:0.4140\t test_acc0.8161764705882353\n",
      "epoch:21\t train_loss:0.2754\ttrain_acc:0.896774193548387\ttest_loss:0.4512\t test_acc0.7794117647058824\n",
      "epoch:22\t train_loss:0.2719\ttrain_acc:0.895852534562212\ttest_loss:0.3739\t test_acc0.8566176470588235\n",
      "epoch:23\t train_loss:0.2438\ttrain_acc:0.9069124423963134\ttest_loss:0.2837\t test_acc0.8970588235294118\n",
      "epoch:24\t train_loss:0.2556\ttrain_acc:0.9069124423963134\ttest_loss:0.4453\t test_acc0.8308823529411765\n",
      "epoch:25\t train_loss:0.2650\ttrain_acc:0.9013824884792627\ttest_loss:0.3388\t test_acc0.8235294117647058\n",
      "epoch:26\t train_loss:0.2183\ttrain_acc:0.9133640552995391\ttest_loss:0.2485\t test_acc0.9044117647058824\n",
      "epoch:27\t train_loss:0.2499\ttrain_acc:0.9096774193548387\ttest_loss:0.4758\t test_acc0.8088235294117647\n",
      "epoch:28\t train_loss:0.2156\ttrain_acc:0.9271889400921659\ttest_loss:0.3393\t test_acc0.8823529411764706\n",
      "epoch:29\t train_loss:0.2099\ttrain_acc:0.9299539170506912\ttest_loss:0.3061\t test_acc0.8676470588235294\n",
      "epoch:30\t train_loss:0.1904\ttrain_acc:0.9253456221198156\ttest_loss:0.2440\t test_acc0.9007352941176471\n",
      "epoch:31\t train_loss:0.1970\ttrain_acc:0.9299539170506912\ttest_loss:0.4381\t test_acc0.8161764705882353\n",
      "epoch:32\t train_loss:0.2163\ttrain_acc:0.919815668202765\ttest_loss:0.4717\t test_acc0.8161764705882353\n",
      "epoch:33\t train_loss:0.2231\ttrain_acc:0.9216589861751152\ttest_loss:0.2622\t test_acc0.9117647058823529\n",
      "epoch:34\t train_loss:0.2317\ttrain_acc:0.9161290322580645\ttest_loss:0.5807\t test_acc0.8198529411764706\n",
      "epoch:35\t train_loss:0.2323\ttrain_acc:0.9161290322580645\ttest_loss:0.2719\t test_acc0.8897058823529411\n",
      "epoch:36\t train_loss:0.1944\ttrain_acc:0.9271889400921659\ttest_loss:0.2780\t test_acc0.9044117647058824\n",
      "epoch:37\t train_loss:0.2073\ttrain_acc:0.9271889400921659\ttest_loss:0.2444\t test_acc0.9117647058823529\n",
      "epoch:38\t train_loss:0.1731\ttrain_acc:0.9327188940092166\ttest_loss:0.3024\t test_acc0.8786764705882353\n",
      "epoch:39\t train_loss:0.1607\ttrain_acc:0.9428571428571428\ttest_loss:0.2062\t test_acc0.9264705882352942\n",
      "epoch:40\t train_loss:0.1471\ttrain_acc:0.9483870967741935\ttest_loss:0.2494\t test_acc0.8860294117647058\n",
      "epoch:41\t train_loss:0.1513\ttrain_acc:0.9428571428571428\ttest_loss:0.2236\t test_acc0.9154411764705882\n",
      "epoch:42\t train_loss:0.1455\ttrain_acc:0.9511520737327189\ttest_loss:0.5226\t test_acc0.8345588235294118\n",
      "epoch:43\t train_loss:0.1674\ttrain_acc:0.9354838709677419\ttest_loss:0.2966\t test_acc0.8639705882352942\n",
      "epoch:44\t train_loss:0.1766\ttrain_acc:0.9382488479262673\ttest_loss:0.3499\t test_acc0.8933823529411765\n",
      "epoch:45\t train_loss:0.1673\ttrain_acc:0.936405529953917\ttest_loss:0.2642\t test_acc0.8823529411764706\n",
      "epoch:46\t train_loss:0.1441\ttrain_acc:0.9456221198156682\ttest_loss:0.2669\t test_acc0.9007352941176471\n",
      "epoch:47\t train_loss:0.1421\ttrain_acc:0.9483870967741935\ttest_loss:0.2924\t test_acc0.875\n",
      "epoch:48\t train_loss:0.1212\ttrain_acc:0.9529953917050691\ttest_loss:0.2294\t test_acc0.9264705882352942\n",
      "epoch:49\t train_loss:0.1193\ttrain_acc:0.9529953917050691\ttest_loss:0.2655\t test_acc0.9007352941176471\n"
     ]
    }
   ],
   "source": [
    "train_loss_list = []\n",
    "train_acc_list = []\n",
    "test_loss_list = []\n",
    "test_acc_list = []\n",
    "\n",
    "for epoch in range(epochs):\n",
    "\ttrain_loss, train_acc = train_epoch(net, data_loader=vehicles_trainloader, device=device)\n",
    "\ttest_loss, test_acc = test_epoch(net, data_loader=vehicles_testloader, device=device)\n",
    "\ttrain_loss_list.append(train_loss)\n",
    "\ttrain_acc_list.append(train_acc)\n",
    "\ttest_loss_list.append(test_loss)\n",
    "\ttest_acc_list.append(test_acc)\n",
    "\tprint(f\"epoch:{epoch}\\t train_loss:{train_loss:.4f}\\t\"\n",
    "\tf\"train_acc:{train_acc}\\t\"\n",
    "\tf\"test_loss:{test_loss:.4f}\\t test_acc{test_acc}\")"
   ]
  },
  {
   "cell_type": "markdown",
   "id": "241edbb2",
   "metadata": {},
   "source": [
    "#### 绘制曲线"
   ]
  },
  {
   "cell_type": "markdown",
   "id": "a06084e8",
   "metadata": {},
   "source": [
    "LOSS曲线"
   ]
  },
  {
   "cell_type": "code",
   "execution_count": 89,
   "id": "f8ea9cf1",
   "metadata": {},
   "outputs": [
    {
     "data": {
      "image/png": "[encoded data removed]",
      "text/plain": [
       "<Figure size 432x288 with 1 Axes>"
      ]
     },
     "metadata": {
      "needs_background": "light"
     },
     "output_type": "display_data"
    }
   ],
   "source": [
    "epoch_list = np.arange(1, 51)\n",
    "plt.plot(epoch_list, train_loss_list, color='red', linewidth=1.0, label='Train')\n",
    "plt.plot(epoch_list, test_loss_list, color='blue', linewidth=1.0, label='Test')\n",
    "plt.xlabel('Epochs')\n",
    "plt.ylabel('Loss')\n",
    "plt.legend()\n",
    "plt.show()"
   ]
  },
  {
   "cell_type": "markdown",
   "id": "9fd696be",
   "metadata": {},
   "source": [
    "ACCURACY曲线"
   ]
  },
  {
   "cell_type": "code",
   "execution_count": 90,
   "id": "959d06ba",
   "metadata": {},
   "outputs": [
    {
     "data": {
      "image/png": "[encoded data removed]",
      "text/plain": [
       "<Figure size 432x288 with 1 Axes>"
      ]
     },
     "metadata": {
      "needs_background": "light"
     },
     "output_type": "display_data"
    }
   ],
   "source": [
    "plt.plot(epoch_list, train_acc_list, color='red', linewidth=1.0, label='Train')\n",
    "plt.plot(epoch_list, test_acc_list, color='blue', linewidth=1.0, label='Test')\n",
    "plt.xlabel('Epochs')\n",
    "plt.ylabel('Accuracy')\n",
    "plt.legend()\n",
    "plt.show()"
   ]
  },
  {
   "cell_type": "markdown",
   "id": "e4ef2c2d",
   "metadata": {},
   "source": [
    "### 结果分析-改变神经元个数\n",
    "> 将网络中每一个卷积层的神经元个数翻倍后，网络的性能和训练速度有所下降，可能是网络参数过多导致过拟合以及计算量增大。"
   ]
  },
  {
   "cell_type": "code",
   "execution_count": null,
   "id": "f59afdfa",
   "metadata": {},
   "outputs": [],
   "source": [
    "# 二、任务2\n",
    "\n",
    "## 2.1 任务内容\n",
    "\n",
    "1. 任务具体要求 从至少一个数据集上进行实验，同理，这里我选取了车辆分类数据集（后面的实验都是用的车辆分类数据集），主要在之前利用torch.nn实现二维卷积的基础上，\n",
    "    为解决感受野比较的问题，将普通的卷积修改为空洞卷积，并且卷几率符合HDC条件（这里我选取了1,2,5），并且堆叠了2层HDC，即一共六层卷积层。\n",
    "2. 任务要求：将空洞卷积模型的实验结果与卷积模型的结果进行分析比对，训练时间、预测精度、Loss变化等角度分析，\n",
    "    不同超参数的对比分析（包括卷积层数、卷积核大小、不同dilation的选择，batchsize、lr等）选其中至少1-2个进行分析（选做）\n",
    "3. 任务算法或原理介绍：步骤和二维卷积的实现差不多，这里不做过多阐述\n",
    "4. 任务所用数据集（若此前已介绍过则可略）\n",
    "\n",
    "## 2.2 任务思路及代码\n",
    "\n",
    "> 以文本步骤的形式简要介绍代码思路\n",
    "1. 步骤1：基本步骤同二维卷积实验\n",
    "2. 步骤2：……\n",
    "3. ……"
   ]
  },
  {
   "cell_type": "markdown",
   "id": "3879623d",
   "metadata": {},
   "source": [
    "#### 搭建空洞网络"
   ]
  },
  {
   "cell_type": "code",
   "execution_count": 107,
   "id": "a48b346c",
   "metadata": {},
   "outputs": [],
   "source": [
    "class DilatedConvModule(nn.Module):\n",
    "\tdef __init__(self):\n",
    "\t\tsuper(DilatedConvModule, self).__init__()\n",
    "\t\tself.conv = nn.Sequential(\n",
    "\t\t\tnn.Conv2d(in_channels=3, out_channels=32, kernel_size=3, stride=1, padding=0, dilation=1),\n",
    "\t\t\tnn.BatchNorm2d(32),\n",
    "\t\t\tnn.ReLU(inplace=True),\n",
    "\t\t\tnn.Conv2d(in_channels=32, out_channels=64, kernel_size=3, stride=1, padding=0, dilation=2),\n",
    "\t\t\tnn.BatchNorm2d(64),\n",
    "\t\t\tnn.ReLU(inplace=True),\n",
    "\t\t\tnn.Conv2d(in_channels=64, out_channels=128, kernel_size=3, stride=1, padding=0, dilation=5),\n",
    "\t\t\tnn.BatchNorm2d(128),\n",
    "\t\t\tnn.ReLU(inplace=True)\n",
    "\t\t)\n",
    "\t\tself.fc = nn.Linear(128, num_classes)\n",
    "\t\n",
    "\tdef forward(self, X):\n",
    "\t\tout = self.conv(X)\n",
    "\t\tout = F.avg_pool2d(out, 16)\n",
    "\t\tout = torch.squeeze(out)\n",
    "\t\tout = self.fc(out)\n",
    "\t\treturn out"
   ]
  },
  {
   "cell_type": "markdown",
   "id": "37e367fa",
   "metadata": {},
   "source": [
    "#### 训练和测试"
   ]
  },
  {
   "cell_type": "code",
   "execution_count": 120,
   "id": "f8060cb5",
   "metadata": {},
   "outputs": [
    {
     "name": "stdout",
     "output_type": "stream",
     "text": [
      "3\n"
     ]
    }
   ],
   "source": [
    "classes = ('bus', 'car', 'truck')\n",
    "num_classes = 3\n",
    "epochs = 50\n",
    "lr = 0.001\n",
    "batch_size = 512\n",
    "device = torch.device(\"cuda:0\")\n",
    "vehicles_trainloader = torch.utils.data.DataLoader(train_dataset, batch_size=batch_size, shuffle=True, num_workers=0)\n",
    "vehicles_testloader = torch.utils.data.DataLoader(test_dataset, batch_size=batch_size, shuffle=True, num_workers=0)\n",
    "print(len(vehicles_trainloader))\n",
    "net = DilatedConvModule().to(device)\n",
    "criterion = nn.CrossEntropyLoss()\n",
    "optimizer = torch.optim.Adam(net.parameters(), lr=lr)"
   ]
  },
  {
   "cell_type": "code",
   "execution_count": 121,
   "id": "e0c90f37",
   "metadata": {},
   "outputs": [
    {
     "name": "stdout",
     "output_type": "stream",
     "text": [
      "epoch:0\t train_loss:1.0642\ttrain_acc:0.4055299539170507\ttest_loss:1.0479\t test_acc0.5735294117647058\n",
      "epoch:1\t train_loss:0.8589\ttrain_acc:0.6672811059907834\ttest_loss:1.0130\t test_acc0.5735294117647058\n",
      "epoch:2\t train_loss:0.7672\ttrain_acc:0.6995391705069124\ttest_loss:0.9708\t test_acc0.6838235294117647\n",
      "epoch:3\t train_loss:0.7191\ttrain_acc:0.7400921658986175\ttest_loss:0.9244\t test_acc0.7426470588235294\n",
      "epoch:4\t train_loss:0.6526\ttrain_acc:0.7769585253456222\ttest_loss:0.8731\t test_acc0.7720588235294118\n",
      "epoch:5\t train_loss:0.6212\ttrain_acc:0.7824884792626728\ttest_loss:0.8207\t test_acc0.7352941176470589\n",
      "epoch:6\t train_loss:0.5988\ttrain_acc:0.7861751152073733\ttest_loss:0.7732\t test_acc0.7242647058823529\n",
      "epoch:7\t train_loss:0.5969\ttrain_acc:0.7963133640552995\ttest_loss:0.7274\t test_acc0.7573529411764706\n",
      "epoch:8\t train_loss:0.5556\ttrain_acc:0.8064516129032258\ttest_loss:0.6908\t test_acc0.7720588235294118\n",
      "epoch:9\t train_loss:0.5606\ttrain_acc:0.8046082949308756\ttest_loss:0.6617\t test_acc0.7757352941176471\n",
      "epoch:10\t train_loss:0.5331\ttrain_acc:0.8101382488479263\ttest_loss:0.6359\t test_acc0.7757352941176471\n",
      "epoch:11\t train_loss:0.4890\ttrain_acc:0.8129032258064516\ttest_loss:0.6136\t test_acc0.7794117647058824\n",
      "epoch:12\t train_loss:0.5648\ttrain_acc:0.8101382488479263\ttest_loss:0.5815\t test_acc0.7977941176470589\n",
      "epoch:13\t train_loss:0.5055\ttrain_acc:0.823963133640553\ttest_loss:0.5630\t test_acc0.8161764705882353\n",
      "epoch:14\t train_loss:0.4774\ttrain_acc:0.8221198156682028\ttest_loss:0.5454\t test_acc0.8088235294117647\n",
      "epoch:15\t train_loss:0.4817\ttrain_acc:0.8294930875576036\ttest_loss:0.5345\t test_acc0.8125\n",
      "epoch:16\t train_loss:0.4981\ttrain_acc:0.8294930875576036\ttest_loss:0.5158\t test_acc0.8235294117647058\n",
      "epoch:17\t train_loss:0.5049\ttrain_acc:0.8341013824884793\ttest_loss:0.5081\t test_acc0.8198529411764706\n",
      "epoch:18\t train_loss:0.4882\ttrain_acc:0.8350230414746543\ttest_loss:0.4975\t test_acc0.8308823529411765\n",
      "epoch:19\t train_loss:0.4823\ttrain_acc:0.8331797235023042\ttest_loss:0.4825\t test_acc0.8308823529411765\n",
      "epoch:20\t train_loss:0.4455\ttrain_acc:0.8368663594470046\ttest_loss:0.4718\t test_acc0.8382352941176471\n",
      "epoch:21\t train_loss:0.4325\ttrain_acc:0.8433179723502304\ttest_loss:0.4677\t test_acc0.8455882352941176\n",
      "epoch:22\t train_loss:0.4334\ttrain_acc:0.8534562211981567\ttest_loss:0.4550\t test_acc0.8345588235294118\n",
      "epoch:23\t train_loss:0.4274\ttrain_acc:0.8506912442396314\ttest_loss:0.4463\t test_acc0.8345588235294118\n",
      "epoch:24\t train_loss:0.4287\ttrain_acc:0.8488479262672811\ttest_loss:0.4403\t test_acc0.8382352941176471\n",
      "epoch:25\t train_loss:0.4174\ttrain_acc:0.8571428571428571\ttest_loss:0.4338\t test_acc0.8529411764705882\n",
      "epoch:26\t train_loss:0.4115\ttrain_acc:0.8626728110599078\ttest_loss:0.4280\t test_acc0.8566176470588235\n",
      "epoch:27\t train_loss:0.4162\ttrain_acc:0.8617511520737328\ttest_loss:0.4224\t test_acc0.8492647058823529\n",
      "epoch:28\t train_loss:0.3705\ttrain_acc:0.8562211981566821\ttest_loss:0.4181\t test_acc0.8492647058823529\n",
      "epoch:29\t train_loss:0.4242\ttrain_acc:0.8617511520737328\ttest_loss:0.4064\t test_acc0.8492647058823529\n",
      "epoch:30\t train_loss:0.4222\ttrain_acc:0.8654377880184332\ttest_loss:0.4009\t test_acc0.8529411764705882\n",
      "epoch:31\t train_loss:0.3834\ttrain_acc:0.8663594470046083\ttest_loss:0.3947\t test_acc0.8529411764705882\n",
      "epoch:32\t train_loss:0.3417\ttrain_acc:0.8737327188940092\ttest_loss:0.3925\t test_acc0.8602941176470589\n",
      "epoch:33\t train_loss:0.3656\ttrain_acc:0.8709677419354839\ttest_loss:0.3892\t test_acc0.8492647058823529\n",
      "epoch:34\t train_loss:0.3318\ttrain_acc:0.8709677419354839\ttest_loss:0.3835\t test_acc0.8382352941176471\n",
      "epoch:35\t train_loss:0.3658\ttrain_acc:0.8755760368663594\ttest_loss:0.3835\t test_acc0.8455882352941176\n",
      "epoch:36\t train_loss:0.3588\ttrain_acc:0.8811059907834101\ttest_loss:0.3745\t test_acc0.8529411764705882\n",
      "epoch:37\t train_loss:0.3505\ttrain_acc:0.8783410138248848\ttest_loss:0.3747\t test_acc0.8566176470588235\n",
      "epoch:38\t train_loss:0.3242\ttrain_acc:0.8792626728110599\ttest_loss:0.3831\t test_acc0.8602941176470589\n",
      "epoch:39\t train_loss:0.3542\ttrain_acc:0.8774193548387097\ttest_loss:0.3676\t test_acc0.8639705882352942\n",
      "epoch:40\t train_loss:0.3583\ttrain_acc:0.880184331797235\ttest_loss:0.3665\t test_acc0.8602941176470589\n",
      "epoch:41\t train_loss:0.3553\ttrain_acc:0.8838709677419355\ttest_loss:0.3552\t test_acc0.8566176470588235\n",
      "epoch:42\t train_loss:0.3462\ttrain_acc:0.8866359447004608\ttest_loss:0.3556\t test_acc0.8492647058823529\n",
      "epoch:43\t train_loss:0.3319\ttrain_acc:0.8875576036866359\ttest_loss:0.3627\t test_acc0.8566176470588235\n",
      "epoch:44\t train_loss:0.3182\ttrain_acc:0.8847926267281107\ttest_loss:0.3434\t test_acc0.8639705882352942\n",
      "epoch:45\t train_loss:0.3150\ttrain_acc:0.8884792626728111\ttest_loss:0.3470\t test_acc0.8676470588235294\n",
      "epoch:46\t train_loss:0.3137\ttrain_acc:0.8912442396313364\ttest_loss:0.3480\t test_acc0.8602941176470589\n",
      "epoch:47\t train_loss:0.3075\ttrain_acc:0.8930875576036866\ttest_loss:0.3529\t test_acc0.8602941176470589\n",
      "epoch:48\t train_loss:0.2866\ttrain_acc:0.8930875576036866\ttest_loss:0.3580\t test_acc0.8602941176470589\n",
      "epoch:49\t train_loss:0.3162\ttrain_acc:0.8995391705069125\ttest_loss:0.3569\t test_acc0.8676470588235294\n"
     ]
    }
   ],
   "source": [
    "train_loss_list = []\n",
    "train_acc_list = []\n",
    "test_loss_list = []\n",
    "test_acc_list = []\n",
    "\n",
    "for epoch in range(epochs):\n",
    "\ttrain_loss, train_acc = train_epoch(net, data_loader=vehicles_trainloader, device=device)\n",
    "\ttest_loss, test_acc = test_epoch(net, data_loader=vehicles_testloader, device=device)\n",
    "\ttrain_loss_list.append(train_loss)\n",
    "\ttrain_acc_list.append(train_acc)\n",
    "\ttest_loss_list.append(test_loss)\n",
    "\ttest_acc_list.append(test_acc)\n",
    "\tprint(f\"epoch:{epoch}\\t train_loss:{train_loss:.4f}\\t\"\n",
    "\tf\"train_acc:{train_acc}\\t\"\n",
    "\tf\"test_loss:{test_loss:.4f}\\t test_acc{test_acc}\")"
   ]
  },
  {
   "cell_type": "markdown",
   "id": "ebafcaf3",
   "metadata": {},
   "source": [
    "#### 绘制曲线"
   ]
  },
  {
   "cell_type": "markdown",
   "id": "589a2c0c",
   "metadata": {},
   "source": [
    "LOSS曲线"
   ]
  },
  {
   "cell_type": "code",
   "execution_count": 123,
   "id": "ef44b5d2",
   "metadata": {},
   "outputs": [
    {
     "data": {
      "image/png": "[encoded data removed]",
      "text/plain": [
       "<Figure size 432x288 with 1 Axes>"
      ]
     },
     "metadata": {
      "needs_background": "light"
     },
     "output_type": "display_data"
    }
   ],
   "source": [
    "epoch_list = np.arange(1, 51)\n",
    "plt.plot(epoch_list, train_loss_list, color='red', linewidth=1.0, label='Train')\n",
    "plt.plot(epoch_list, test_loss_list, color='blue', linewidth=1.0, label='Test')\n",
    "plt.xlabel('Epochs')\n",
    "plt.ylabel('Loss')\n",
    "plt.legend()\n",
    "plt.show()"
   ]
  },
  {
   "cell_type": "markdown",
   "id": "4b34045f",
   "metadata": {},
   "source": [
    "ACCURACY曲线"
   ]
  },
  {
   "cell_type": "code",
   "execution_count": 124,
   "id": "1729987e",
   "metadata": {},
   "outputs": [
    {
     "data": {
      "image/png": "[encoded data removed]",
      "text/plain": [
       "<Figure size 432x288 with 1 Axes>"
      ]
     },
     "metadata": {
      "needs_background": "light"
     },
     "output_type": "display_data"
    }
   ],
   "source": [
    "plt.plot(epoch_list, train_acc_list, color='red', linewidth=1.0, label='Train')\n",
    "plt.plot(epoch_list, test_acc_list, color='blue', linewidth=1.0, label='Test')\n",
    "plt.xlabel('Epochs')\n",
    "plt.ylabel('Accuracy')\n",
    "plt.legend()\n",
    "plt.show()"
   ]
  },
  {
   "cell_type": "markdown",
   "id": "d52fbb7d",
   "metadata": {},
   "source": [
    "#### 结果分析-与卷积模型对比"
   ]
  },
  {
   "cell_type": "markdown",
   "id": "e412d66b",
   "metadata": {},
   "source": [
    "在其他超参数相同的情况下，空洞卷积的训练速度有明显提升。但是在验证集上的精度不如卷积神经网络，且从曲线上来看，验证的Loss曲线和Accuracy曲线的波动都明显大于卷积神经网络，可能是因为三层的空洞卷积传递的信息较深，使得在训练集上过拟合。"
   ]
  },
  {
   "cell_type": "markdown",
   "id": "13a63710",
   "metadata": {},
   "source": [
    "### 改变超参数"
   ]
  },
  {
   "cell_type": "markdown",
   "id": "baa06a0a",
   "metadata": {},
   "source": [
    "#### 减少卷积层数"
   ]
  },
  {
   "cell_type": "code",
   "execution_count": 113,
   "id": "d0db69ba",
   "metadata": {},
   "outputs": [],
   "source": [
    "class DilatedConvModule(nn.Module):\n",
    "\tdef __init__(self):\n",
    "\t\tsuper(DilatedConvModule, self).__init__()\n",
    "\t\tself.conv = nn.Sequential(\n",
    "\t\t\tnn.Conv2d(in_channels=3, out_channels=32, kernel_size=3, stride=1, padding=0, dilation=1),\n",
    "\t\t\tnn.BatchNorm2d(32),\n",
    "\t\t\tnn.ReLU(inplace=True),\n",
    "\t\t\tnn.Conv2d(in_channels=32, out_channels=64, kernel_size=3, stride=1, padding=0, dilation=2),\n",
    "\t\t\tnn.BatchNorm2d(64),\n",
    "\t\t\tnn.ReLU(inplace=True),\n",
    "\t\t)\n",
    "\t\tself.fc = nn.Linear(64, num_classes)\n",
    "\t\n",
    "\tdef forward(self, X):\n",
    "\t\tout = self.conv(X)\n",
    "\t\tout = F.avg_pool2d(out, 16)\n",
    "\t\tout = torch.squeeze(out)\n",
    "\t\tout = self.fc(out)\n",
    "\t\treturn out"
   ]
  },
  {
   "cell_type": "code",
   "execution_count": 114,
   "id": "4b7022c5",
   "metadata": {},
   "outputs": [
    {
     "name": "stdout",
     "output_type": "stream",
     "text": [
      "3\n"
     ]
    }
   ],
   "source": [
    "classes = ('bus', 'car', 'truck')\n",
    "num_classes = 3\n",
    "epochs = 50\n",
    "lr = 0.001\n",
    "batch_size = 512\n",
    "device = torch.device(\"cuda:0\")\n",
    "vehicles_trainloader = torch.utils.data.DataLoader(train_dataset, batch_size=batch_size, shuffle=True, num_workers=0)\n",
    "vehicles_testloader = torch.utils.data.DataLoader(test_dataset, batch_size=batch_size, shuffle=True, num_workers=0)\n",
    "print(len(vehicles_trainloader))\n",
    "net = DilatedConvModule().to(device)\n",
    "criterion = nn.CrossEntropyLoss()\n",
    "optimizer = torch.optim.Adam(net.parameters(), lr=lr)"
   ]
  },
  {
   "cell_type": "code",
   "execution_count": 115,
   "id": "a4f721ba",
   "metadata": {},
   "outputs": [
    {
     "name": "stdout",
     "output_type": "stream",
     "text": [
      "epoch:0\t train_loss:1.1508\ttrain_acc:0.27004608294930876\ttest_loss:1.0718\t test_acc0.6544117647058824\n",
      "epoch:1\t train_loss:0.9495\ttrain_acc:0.5548387096774193\ttest_loss:1.0450\t test_acc0.6654411764705882\n",
      "epoch:2\t train_loss:0.8167\ttrain_acc:0.6682027649769585\ttest_loss:1.0130\t test_acc0.6360294117647058\n",
      "epoch:3\t train_loss:0.7857\ttrain_acc:0.7317972350230415\ttest_loss:0.9780\t test_acc0.6176470588235294\n",
      "epoch:4\t train_loss:0.6938\ttrain_acc:0.7529953917050691\ttest_loss:0.9404\t test_acc0.6176470588235294\n",
      "epoch:5\t train_loss:0.6901\ttrain_acc:0.7576036866359447\ttest_loss:0.9005\t test_acc0.6176470588235294\n",
      "epoch:6\t train_loss:0.6392\ttrain_acc:0.7732718894009216\ttest_loss:0.8600\t test_acc0.6654411764705882\n",
      "epoch:7\t train_loss:0.6195\ttrain_acc:0.7861751152073733\ttest_loss:0.8178\t test_acc0.6875\n",
      "epoch:8\t train_loss:0.6139\ttrain_acc:0.7852534562211981\ttest_loss:0.7732\t test_acc0.7132352941176471\n",
      "epoch:9\t train_loss:0.6385\ttrain_acc:0.791705069124424\ttest_loss:0.7320\t test_acc0.7536764705882353\n",
      "epoch:10\t train_loss:0.5867\ttrain_acc:0.7953917050691244\ttest_loss:0.6976\t test_acc0.7720588235294118\n",
      "epoch:11\t train_loss:0.5889\ttrain_acc:0.8018433179723502\ttest_loss:0.6658\t test_acc0.7794117647058824\n",
      "epoch:12\t train_loss:0.5404\ttrain_acc:0.8027649769585253\ttest_loss:0.6316\t test_acc0.7830882352941176\n",
      "epoch:13\t train_loss:0.5616\ttrain_acc:0.8036866359447005\ttest_loss:0.6006\t test_acc0.8088235294117647\n",
      "epoch:14\t train_loss:0.5198\ttrain_acc:0.8073732718894009\ttest_loss:0.5837\t test_acc0.8161764705882353\n",
      "epoch:15\t train_loss:0.5159\ttrain_acc:0.8202764976958525\ttest_loss:0.5705\t test_acc0.8161764705882353\n",
      "epoch:16\t train_loss:0.5225\ttrain_acc:0.823963133640553\ttest_loss:0.5547\t test_acc0.8235294117647058\n",
      "epoch:17\t train_loss:0.5040\ttrain_acc:0.8248847926267281\ttest_loss:0.5411\t test_acc0.8345588235294118\n",
      "epoch:18\t train_loss:0.5182\ttrain_acc:0.8294930875576036\ttest_loss:0.5223\t test_acc0.8272058823529411\n",
      "epoch:19\t train_loss:0.4793\ttrain_acc:0.8294930875576036\ttest_loss:0.5052\t test_acc0.8382352941176471\n",
      "epoch:20\t train_loss:0.4798\ttrain_acc:0.8387096774193549\ttest_loss:0.4931\t test_acc0.8455882352941176\n",
      "epoch:21\t train_loss:0.4668\ttrain_acc:0.8359447004608295\ttest_loss:0.4855\t test_acc0.8382352941176471\n",
      "epoch:22\t train_loss:0.4711\ttrain_acc:0.8433179723502304\ttest_loss:0.4777\t test_acc0.8382352941176471\n",
      "epoch:23\t train_loss:0.4496\ttrain_acc:0.8460829493087557\ttest_loss:0.4696\t test_acc0.8161764705882353\n",
      "epoch:24\t train_loss:0.4539\ttrain_acc:0.832258064516129\ttest_loss:0.4637\t test_acc0.8235294117647058\n",
      "epoch:25\t train_loss:0.4133\ttrain_acc:0.840552995391705\ttest_loss:0.4602\t test_acc0.8455882352941176\n",
      "epoch:26\t train_loss:0.4451\ttrain_acc:0.8552995391705069\ttest_loss:0.4628\t test_acc0.8345588235294118\n",
      "epoch:27\t train_loss:0.4489\ttrain_acc:0.8571428571428571\ttest_loss:0.4435\t test_acc0.8529411764705882\n",
      "epoch:28\t train_loss:0.4220\ttrain_acc:0.8571428571428571\ttest_loss:0.4400\t test_acc0.8308823529411765\n",
      "epoch:29\t train_loss:0.3849\ttrain_acc:0.8497695852534562\ttest_loss:0.4423\t test_acc0.8308823529411765\n",
      "epoch:30\t train_loss:0.4033\ttrain_acc:0.8525345622119815\ttest_loss:0.4478\t test_acc0.8566176470588235\n",
      "epoch:31\t train_loss:0.4201\ttrain_acc:0.8571428571428571\ttest_loss:0.4423\t test_acc0.8529411764705882\n",
      "epoch:32\t train_loss:0.3731\ttrain_acc:0.8617511520737328\ttest_loss:0.4097\t test_acc0.8492647058823529\n",
      "epoch:33\t train_loss:0.3805\ttrain_acc:0.8682027649769585\ttest_loss:0.4097\t test_acc0.8455882352941176\n",
      "epoch:34\t train_loss:0.3661\ttrain_acc:0.8709677419354839\ttest_loss:0.3982\t test_acc0.8419117647058824\n",
      "epoch:35\t train_loss:0.3896\ttrain_acc:0.8672811059907835\ttest_loss:0.3961\t test_acc0.8455882352941176\n",
      "epoch:36\t train_loss:0.3918\ttrain_acc:0.8755760368663594\ttest_loss:0.3965\t test_acc0.8492647058823529\n",
      "epoch:37\t train_loss:0.3652\ttrain_acc:0.8746543778801843\ttest_loss:0.3989\t test_acc0.8419117647058824\n",
      "epoch:38\t train_loss:0.3558\ttrain_acc:0.8764976958525346\ttest_loss:0.4062\t test_acc0.8529411764705882\n",
      "epoch:39\t train_loss:0.3725\ttrain_acc:0.8746543778801843\ttest_loss:0.3931\t test_acc0.8602941176470589\n",
      "epoch:40\t train_loss:0.3822\ttrain_acc:0.8811059907834101\ttest_loss:0.3983\t test_acc0.8455882352941176\n",
      "epoch:41\t train_loss:0.3588\ttrain_acc:0.8857142857142857\ttest_loss:0.3734\t test_acc0.8419117647058824\n",
      "epoch:42\t train_loss:0.3460\ttrain_acc:0.8884792626728111\ttest_loss:0.3781\t test_acc0.8419117647058824\n",
      "epoch:43\t train_loss:0.3559\ttrain_acc:0.8774193548387097\ttest_loss:0.3616\t test_acc0.8492647058823529\n",
      "epoch:44\t train_loss:0.3694\ttrain_acc:0.8903225806451613\ttest_loss:0.3590\t test_acc0.875\n",
      "epoch:45\t train_loss:0.3396\ttrain_acc:0.896774193548387\ttest_loss:0.3713\t test_acc0.8529411764705882\n",
      "epoch:46\t train_loss:0.3149\ttrain_acc:0.896774193548387\ttest_loss:0.3579\t test_acc0.8639705882352942\n",
      "epoch:47\t train_loss:0.3386\ttrain_acc:0.8986175115207373\ttest_loss:0.3610\t test_acc0.8639705882352942\n",
      "epoch:48\t train_loss:0.3020\ttrain_acc:0.8949308755760369\ttest_loss:0.3681\t test_acc0.8529411764705882\n",
      "epoch:49\t train_loss:0.2796\ttrain_acc:0.8894009216589862\ttest_loss:0.3633\t test_acc0.8639705882352942\n"
     ]
    }
   ],
   "source": [
    "train_loss_list = []\n",
    "train_acc_list = []\n",
    "test_loss_list = []\n",
    "test_acc_list = []\n",
    "\n",
    "for epoch in range(epochs):\n",
    "\ttrain_loss, train_acc = train_epoch(net, data_loader=vehicles_trainloader, device=device)\n",
    "\ttest_loss, test_acc = test_epoch(net, data_loader=vehicles_testloader, device=device)\n",
    "\ttrain_loss_list.append(train_loss)\n",
    "\ttrain_acc_list.append(train_acc)\n",
    "\ttest_loss_list.append(test_loss)\n",
    "\ttest_acc_list.append(test_acc)\n",
    "\tprint(f\"epoch:{epoch}\\t train_loss:{train_loss:.4f}\\t\"\n",
    "\tf\"train_acc:{train_acc}\\t\"\n",
    "\tf\"test_loss:{test_loss:.4f}\\t test_acc{test_acc}\")"
   ]
  },
  {
   "cell_type": "markdown",
   "id": "971727b6",
   "metadata": {},
   "source": [
    "#### 绘制曲线"
   ]
  },
  {
   "cell_type": "markdown",
   "id": "1f172de2",
   "metadata": {},
   "source": [
    "LOSS曲线"
   ]
  },
  {
   "cell_type": "code",
   "execution_count": null,
   "id": "5d69d74c",
   "metadata": {},
   "outputs": [
    {
     "data": {
      "image/png": "[encoded data removed]",
      "text/plain": [
       "<Figure size 432x288 with 1 Axes>"
      ]
     },
     "metadata": {
      "needs_background": "light"
     },
     "output_type": "display_data"
    }
   ],
   "source": [
    "epoch_list = np.arange(1, 51)\n",
    "plt.plot(epoch_list, train_loss_list, color='red', linewidth=1.0, label='Train')\n",
    "plt.plot(epoch_list, test_loss_list, color='blue', linewidth=1.0, label='Test')\n",
    "plt.xlabel('Epochs')\n",
    "plt.ylabel('Loss')\n",
    "plt.legend()\n",
    "plt.show()"
   ]
  },
  {
   "cell_type": "markdown",
   "id": "decc1f80",
   "metadata": {},
   "source": [
    "ACCURACY曲线"
   ]
  },
  {
   "cell_type": "code",
   "execution_count": null,
   "id": "02c40553",
   "metadata": {},
   "outputs": [
    {
     "data": {
      "image/png": "[encoded data removed]",
      "text/plain": [
       "<Figure size 432x288 with 1 Axes>"
      ]
     },
     "metadata": {
      "needs_background": "light"
     },
     "output_type": "display_data"
    }
   ],
   "source": [
    "plt.plot(epoch_list, train_acc_list, color='red', linewidth=1.0, label='Train')\n",
    "plt.plot(epoch_list, test_acc_list, color='blue', linewidth=1.0, label='Test')\n",
    "plt.xlabel('Epochs')\n",
    "plt.ylabel('Accuracy')\n",
    "plt.legend()\n",
    "plt.show()"
   ]
  },
  {
   "cell_type": "markdown",
   "id": "4248f465",
   "metadata": {},
   "source": [
    "#### 分析-改变卷积层"
   ]
  },
  {
   "cell_type": "markdown",
   "id": "f9b6bb78",
   "metadata": {},
   "source": [
    "在减少了卷积层之后，验证集的波动减少了，所以可能没有那么过拟合叻。"
   ]
  },
  {
   "cell_type": "markdown",
   "id": "8f41cdaf",
   "metadata": {},
   "source": [
    "#### 更改Batchsize为128"
   ]
  },
  {
   "cell_type": "code",
   "execution_count": 99,
   "id": "f7ffc5cf",
   "metadata": {},
   "outputs": [],
   "source": [
    "class DilatedConvModule(nn.Module):\n",
    "\tdef __init__(self):\n",
    "\t\tsuper(DilatedConvModule, self).__init__()\n",
    "\t\tself.conv = nn.Sequential(\n",
    "\t\t\tnn.Conv2d(in_channels=3, out_channels=32, kernel_size=3, stride=1, padding=0, dilation=1),\n",
    "\t\t\tnn.BatchNorm2d(32),\n",
    "\t\t\tnn.ReLU(inplace=True),\n",
    "\t\t\tnn.Conv2d(in_channels=32, out_channels=64, kernel_size=3, stride=1, padding=0, dilation=2),\n",
    "\t\t\tnn.BatchNorm2d(64),\n",
    "\t\t\tnn.ReLU(inplace=True),\n",
    "\t\t\tnn.Conv2d(in_channels=64, out_channels=128, kernel_size=3, stride=1, padding=0, dilation=5),\n",
    "\t\t\tnn.BatchNorm2d(128),\n",
    "\t\t\tnn.ReLU(inplace=True)\n",
    "\t\t)\n",
    "\t\tself.fc = nn.Linear(128, num_classes)\n",
    "\t\n",
    "\tdef forward(self, X):\n",
    "\t\tout = self.conv(X)\n",
    "\t\tout = F.avg_pool2d(out, 16)\n",
    "\t\tout = torch.squeeze(out)\n",
    "\t\tout = self.fc(out)\n",
    "\t\treturn out"
   ]
  },
  {
   "cell_type": "code",
   "execution_count": 116,
   "id": "720c5806",
   "metadata": {},
   "outputs": [
    {
     "name": "stdout",
     "output_type": "stream",
     "text": [
      "9\n"
     ]
    }
   ],
   "source": [
    "classes = ('bus', 'car', 'truck')\n",
    "num_classes = 3\n",
    "epochs = 50\n",
    "lr = 0.001\n",
    "batch_size = 128\n",
    "device = torch.device(\"cuda:0\")\n",
    "vehicles_trainloader = torch.utils.data.DataLoader(train_dataset, batch_size=batch_size, shuffle=True, num_workers=0)\n",
    "vehicles_testloader = torch.utils.data.DataLoader(test_dataset, batch_size=batch_size, shuffle=True, num_workers=0)\n",
    "print(len(vehicles_trainloader))\n",
    "net = DilatedConvModule().to(device)\n",
    "criterion = nn.CrossEntropyLoss()\n",
    "optimizer = torch.optim.Adam(net.parameters(), lr=lr)"
   ]
  },
  {
   "cell_type": "code",
   "execution_count": 117,
   "id": "d3bd1700",
   "metadata": {},
   "outputs": [
    {
     "name": "stdout",
     "output_type": "stream",
     "text": [
      "epoch:0\t train_loss:0.9372\ttrain_acc:0.5622119815668203\ttest_loss:0.9994\t test_acc0.5955882352941176\n",
      "epoch:1\t train_loss:0.6926\ttrain_acc:0.7815668202764977\ttest_loss:0.8630\t test_acc0.7463235294117647\n",
      "epoch:2\t train_loss:0.6172\ttrain_acc:0.7824884792626728\ttest_loss:0.7174\t test_acc0.7536764705882353\n",
      "epoch:3\t train_loss:0.5831\ttrain_acc:0.7944700460829494\ttest_loss:0.6415\t test_acc0.7867647058823529\n",
      "epoch:4\t train_loss:0.5362\ttrain_acc:0.808294930875576\ttest_loss:0.5862\t test_acc0.8014705882352942\n",
      "epoch:5\t train_loss:0.5158\ttrain_acc:0.8193548387096774\ttest_loss:0.5263\t test_acc0.8345588235294118\n",
      "epoch:6\t train_loss:0.4858\ttrain_acc:0.8221198156682028\ttest_loss:0.4960\t test_acc0.8308823529411765\n",
      "epoch:7\t train_loss:0.4610\ttrain_acc:0.823963133640553\ttest_loss:0.4155\t test_acc0.8419117647058824\n",
      "epoch:8\t train_loss:0.4339\ttrain_acc:0.8414746543778802\ttest_loss:0.4147\t test_acc0.8455882352941176\n",
      "epoch:9\t train_loss:0.4211\ttrain_acc:0.8497695852534562\ttest_loss:0.4819\t test_acc0.8455882352941176\n",
      "epoch:10\t train_loss:0.4119\ttrain_acc:0.8460829493087557\ttest_loss:0.4136\t test_acc0.8455882352941176\n",
      "epoch:11\t train_loss:0.3913\ttrain_acc:0.8562211981566821\ttest_loss:0.4853\t test_acc0.8492647058823529\n",
      "epoch:12\t train_loss:0.3679\ttrain_acc:0.8580645161290322\ttest_loss:0.3551\t test_acc0.8639705882352942\n",
      "epoch:13\t train_loss:0.3610\ttrain_acc:0.8626728110599078\ttest_loss:0.4198\t test_acc0.8455882352941176\n",
      "epoch:14\t train_loss:0.3536\ttrain_acc:0.871889400921659\ttest_loss:0.3405\t test_acc0.8639705882352942\n",
      "epoch:15\t train_loss:0.3339\ttrain_acc:0.8746543778801843\ttest_loss:0.3865\t test_acc0.8676470588235294\n",
      "epoch:16\t train_loss:0.3266\ttrain_acc:0.880184331797235\ttest_loss:0.3188\t test_acc0.8602941176470589\n",
      "epoch:17\t train_loss:0.3325\ttrain_acc:0.8728110599078341\ttest_loss:0.3504\t test_acc0.875\n",
      "epoch:18\t train_loss:0.3149\ttrain_acc:0.8764976958525346\ttest_loss:0.2881\t test_acc0.8676470588235294\n",
      "epoch:19\t train_loss:0.3191\ttrain_acc:0.8829493087557604\ttest_loss:0.2747\t test_acc0.8676470588235294\n",
      "epoch:20\t train_loss:0.3094\ttrain_acc:0.8829493087557604\ttest_loss:0.3117\t test_acc0.8529411764705882\n",
      "epoch:21\t train_loss:0.3140\ttrain_acc:0.8755760368663594\ttest_loss:0.3971\t test_acc0.8676470588235294\n",
      "epoch:22\t train_loss:0.2928\ttrain_acc:0.8949308755760369\ttest_loss:0.2997\t test_acc0.8566176470588235\n",
      "epoch:23\t train_loss:0.2834\ttrain_acc:0.8986175115207373\ttest_loss:0.3759\t test_acc0.8492647058823529\n",
      "epoch:24\t train_loss:0.2997\ttrain_acc:0.8949308755760369\ttest_loss:0.3223\t test_acc0.8713235294117647\n",
      "epoch:25\t train_loss:0.2774\ttrain_acc:0.904147465437788\ttest_loss:0.3287\t test_acc0.8602941176470589\n",
      "epoch:26\t train_loss:0.2810\ttrain_acc:0.8986175115207373\ttest_loss:0.2803\t test_acc0.875\n",
      "epoch:27\t train_loss:0.2686\ttrain_acc:0.9078341013824884\ttest_loss:0.2807\t test_acc0.8713235294117647\n",
      "epoch:28\t train_loss:0.2623\ttrain_acc:0.9096774193548387\ttest_loss:0.2811\t test_acc0.8860294117647058\n",
      "epoch:29\t train_loss:0.2560\ttrain_acc:0.9170506912442397\ttest_loss:0.3122\t test_acc0.8860294117647058\n",
      "epoch:30\t train_loss:0.2499\ttrain_acc:0.9188940092165898\ttest_loss:0.2502\t test_acc0.8786764705882353\n",
      "epoch:31\t train_loss:0.2582\ttrain_acc:0.9133640552995391\ttest_loss:0.3156\t test_acc0.8860294117647058\n",
      "epoch:32\t train_loss:0.2455\ttrain_acc:0.9133640552995391\ttest_loss:0.2886\t test_acc0.8897058823529411\n",
      "epoch:33\t train_loss:0.2516\ttrain_acc:0.9271889400921659\ttest_loss:0.2666\t test_acc0.9117647058823529\n",
      "epoch:34\t train_loss:0.2413\ttrain_acc:0.9235023041474655\ttest_loss:0.2747\t test_acc0.8602941176470589\n",
      "epoch:35\t train_loss:0.2424\ttrain_acc:0.9105990783410138\ttest_loss:0.3069\t test_acc0.8823529411764706\n",
      "epoch:36\t train_loss:0.2455\ttrain_acc:0.9059907834101383\ttest_loss:0.2944\t test_acc0.8860294117647058\n",
      "epoch:37\t train_loss:0.2354\ttrain_acc:0.9262672811059908\ttest_loss:0.2796\t test_acc0.8897058823529411\n",
      "epoch:38\t train_loss:0.2236\ttrain_acc:0.9290322580645162\ttest_loss:0.2554\t test_acc0.8786764705882353\n",
      "epoch:39\t train_loss:0.2150\ttrain_acc:0.9317972350230415\ttest_loss:0.2613\t test_acc0.8933823529411765\n",
      "epoch:40\t train_loss:0.2202\ttrain_acc:0.9327188940092166\ttest_loss:0.2591\t test_acc0.8897058823529411\n",
      "epoch:41\t train_loss:0.2199\ttrain_acc:0.9345622119815669\ttest_loss:0.2749\t test_acc0.8639705882352942\n",
      "epoch:42\t train_loss:0.2309\ttrain_acc:0.9336405529953917\ttest_loss:0.2291\t test_acc0.9117647058823529\n",
      "epoch:43\t train_loss:0.2113\ttrain_acc:0.9336405529953917\ttest_loss:0.2814\t test_acc0.9007352941176471\n",
      "epoch:44\t train_loss:0.2027\ttrain_acc:0.936405529953917\ttest_loss:0.2431\t test_acc0.9080882352941176\n",
      "epoch:45\t train_loss:0.2036\ttrain_acc:0.936405529953917\ttest_loss:0.2127\t test_acc0.8823529411764706\n",
      "epoch:46\t train_loss:0.2070\ttrain_acc:0.9299539170506912\ttest_loss:0.2212\t test_acc0.9080882352941176\n",
      "epoch:47\t train_loss:0.2096\ttrain_acc:0.9327188940092166\ttest_loss:0.2229\t test_acc0.8860294117647058\n",
      "epoch:48\t train_loss:0.2060\ttrain_acc:0.936405529953917\ttest_loss:0.2399\t test_acc0.9227941176470589\n",
      "epoch:49\t train_loss:0.1954\ttrain_acc:0.9428571428571428\ttest_loss:0.2556\t test_acc0.9044117647058824\n"
     ]
    }
   ],
   "source": [
    "train_loss_list = []\n",
    "train_acc_list = []\n",
    "test_loss_list = []\n",
    "test_acc_list = []\n",
    "\n",
    "for epoch in range(epochs):\n",
    "\ttrain_loss, train_acc = train_epoch(net, data_loader=vehicles_trainloader, device=device)\n",
    "\ttest_loss, test_acc = test_epoch(net, data_loader=vehicles_testloader, device=device)\n",
    "\ttrain_loss_list.append(train_loss)\n",
    "\ttrain_acc_list.append(train_acc)\n",
    "\ttest_loss_list.append(test_loss)\n",
    "\ttest_acc_list.append(test_acc)\n",
    "\tprint(f\"epoch:{epoch}\\t train_loss:{train_loss:.4f}\\t\"\n",
    "\tf\"train_acc:{train_acc}\\t\"\n",
    "\tf\"test_loss:{test_loss:.4f}\\t test_acc{test_acc}\")"
   ]
  },
  {
   "cell_type": "markdown",
   "id": "83c6e203",
   "metadata": {},
   "source": [
    "#### 绘制曲线"
   ]
  },
  {
   "cell_type": "markdown",
   "id": "618449f5",
   "metadata": {},
   "source": [
    "LOSS曲线"
   ]
  },
  {
   "cell_type": "code",
   "execution_count": 118,
   "id": "7a0e181d",
   "metadata": {},
   "outputs": [
    {
     "data": {
      "image/png": "[encoded data removed]",
      "text/plain": [
       "<Figure size 432x288 with 1 Axes>"
      ]
     },
     "metadata": {
      "needs_background": "light"
     },
     "output_type": "display_data"
    }
   ],
   "source": [
    "epoch_list = np.arange(1, 51)\n",
    "plt.plot(epoch_list, train_loss_list, color='red', linewidth=1.0, label='Train')\n",
    "plt.plot(epoch_list, test_loss_list, color='blue', linewidth=1.0, label='Test')\n",
    "plt.xlabel('Epochs')\n",
    "plt.ylabel('Loss')\n",
    "plt.legend()\n",
    "plt.show()"
   ]
  },
  {
   "cell_type": "code",
   "execution_count": 119,
   "id": "1c4e3e22",
   "metadata": {},
   "outputs": [
    {
     "data": {
      "image/png": "[encoded data removed]",
      "text/plain": [
       "<Figure size 432x288 with 1 Axes>"
      ]
     },
     "metadata": {
      "needs_background": "light"
     },
     "output_type": "display_data"
    }
   ],
   "source": [
    "plt.plot(epoch_list, train_acc_list, color='red', linewidth=1.0, label='Train')\n",
    "plt.plot(epoch_list, test_acc_list, color='blue', linewidth=1.0, label='Test')\n",
    "plt.xlabel('Epochs')\n",
    "plt.ylabel('Accuracy')\n",
    "plt.legend()\n",
    "plt.show()"
   ]
  },
  {
   "cell_type": "markdown",
   "id": "56ea5abc",
   "metadata": {},
   "source": [
    "#### 分析-增大Batch size"
   ]
  },
  {
   "cell_type": "markdown",
   "id": "c4a9136e",
   "metadata": {},
   "source": [
    "在增大了Batch Size之后，模型的效果有了较为显著的提高。验证集的精度有所上升且波动有明显下降。且提升的速度也较快。应该是在梯度下降中根据每一个batch计算出的梯度更加准确而且避过了一些Local Minima。"
   ]
  },
  {
   "cell_type": "markdown",
   "id": "e6f017a0",
   "metadata": {},
   "source": [
    "### 残差网络"
   ]
  },
  {
   "cell_type": "markdown",
   "id": "7f1b07b7",
   "metadata": {},
   "source": [
    "# 三、任务3\n",
    "\n",
    "## 3.1 任务内容\n",
    "\n",
    "1. 任务具体要求 实现给定结构的残差网络，在至少一个数据集上进行实验，从训练时间、预测精度、Loss变化等角度分析实验结果（最好使用图表展示）\n",
    "2. 任务目的\n",
    "3. 任务算法或原理介绍\n",
    "4. 任务所用数据集（若此前已介绍过则可略）\n",
    "\n",
    "## 3.2 任务思路及代码\n",
    "\n",
    "> 以文本步骤的形式简要介绍代码思路\n",
    "1. 步骤1：……\n",
    "2. 步骤2：……\n",
    "3. ……"
   ]
  },
  {
   "cell_type": "markdown",
   "id": "ffa6110a",
   "metadata": {},
   "source": [
    "#### 读取数据以及数据预处理"
   ]
  },
  {
   "cell_type": "code",
   "execution_count": 102,
   "id": "8680b552",
   "metadata": {},
   "outputs": [],
   "source": [
    "transform = transforms.Compose([\n",
    "\ttransforms.Resize((32, 32)),  #本次图片输入尺寸为（32，32）\n",
    "\ttransforms.ToTensor(),\n",
    "\ttransforms.Normalize([0.5, 0.5, 0.5], [0.5, 0.5, 0.5])\n",
    "])\n",
    "train_dataset = MyDataset(train_data, train_labels, transform)\n",
    "test_dataset = MyDataset(test_data, test_labels, transform)"
   ]
  },
  {
   "cell_type": "markdown",
   "id": "e18c6c23",
   "metadata": {},
   "source": [
    "#### 搭建网络"
   ]
  },
  {
   "cell_type": "code",
   "execution_count": 103,
   "id": "d6e513b8",
   "metadata": {},
   "outputs": [],
   "source": [
    "class ResidualBlock(nn.Module):\n",
    "\tdef __init__(self, inchannel, outchannel, stride=1):\n",
    "\t\tsuper(ResidualBlock, self).__init__()\n",
    "\t\tself.left = nn.Sequential(\n",
    "\t\t\tnn.Conv2d(inchannel, outchannel, kernel_size=3, stride=stride, padding=1, bias=False),\n",
    "\t\t\tnn.BatchNorm2d(outchannel),\n",
    "\t\t\tnn.ReLU(inplace=True),\n",
    "\t\t\tnn.Conv2d(outchannel, outchannel, kernel_size=3, stride=1, padding=1, bias=False),\n",
    "\t\t\tnn.BatchNorm2d(outchannel)\n",
    "\t\t)\n",
    "\t\tself.shortcut = nn.Sequential()\n",
    "\t\tif stride != 1 or inchannel != outchannel:\n",
    "\t\t\tself.shortcut = nn.Sequential(\n",
    "\t\t\t\tnn.Conv2d(inchannel, outchannel, kernel_size=1, stride=stride, bias=False),\n",
    "\t\t\t\tnn.BatchNorm2d(outchannel)\n",
    "\t\t\t)\n",
    "\t\n",
    "\tdef forward(self, x):\n",
    "\t\tout = self.left(x)\n",
    "\t\tout += self.shortcut(x)\n",
    "\t\tout = F.relu(out)\n",
    "\t\treturn out"
   ]
  },
  {
   "cell_type": "code",
   "execution_count": 104,
   "id": "f3e48236",
   "metadata": {},
   "outputs": [],
   "source": [
    "class ResNet(nn.Module):\n",
    "\tdef __init__(self, block):\n",
    "\t\tsuper(ResNet, self).__init__()\n",
    "\t\tself.inchannel = 64\n",
    "\t\tself.conv1 = nn.Sequential(\n",
    "\t\t\tnn.Conv2d(in_channels=3, out_channels=64, kernel_size=3, stride=1, padding=0),\n",
    "\t\t\tnn.BatchNorm2d(64),\n",
    "\t\t\tnn.ReLU(inplace=True)\n",
    "\t\t)\n",
    "\t\tself.layer1 = self.make_layer(ResidualBlock, channels=64, blocks=2, stride=1)\n",
    "\t\tself.layer2 = self.make_layer(ResidualBlock, channels=128, blocks=2, stride=2)\n",
    "\t\tself.layer3 = self.make_layer(ResidualBlock, channels=256, blocks=2, stride=2)\n",
    "\t\tself.layer4 = self.make_layer(ResidualBlock, channels=512, blocks=2, stride=2)\n",
    "\t\tself.fc = nn.Linear(512, num_classes)\n",
    "\t\n",
    "\tdef make_layer(self, block, channels, blocks, stride):\n",
    "\t\tstrides = [stride] + [1] * (blocks - 1)\n",
    "\t\tlayers = []\n",
    "\t\tfor stride in strides:\n",
    "\t\t\tlayers.append(block(self.inchannel, channels, stride))\n",
    "\t\t\tself.inchannel = channels\n",
    "\t\treturn nn.Sequential(*layers)\n",
    "\t\n",
    "\tdef forward(self, x):\n",
    "\t\tout = self.conv1(x)\n",
    "\t\tout = self.layer1(out)\n",
    "\t\tout = self.layer2(out)\n",
    "\t\tout = self.layer3(out)\n",
    "\t\tout = self.layer4(out)\n",
    "\t\tout = F.avg_pool2d(out, 4)\n",
    "\t\tout = torch.squeeze(out)\n",
    "\t\tout = self.fc(out)\n",
    "\t\treturn out\n"
   ]
  },
  {
   "cell_type": "markdown",
   "id": "5b5dae12",
   "metadata": {},
   "source": [
    "#### 训练与测试"
   ]
  },
  {
   "cell_type": "code",
   "execution_count": 105,
   "id": "fe4712af",
   "metadata": {},
   "outputs": [
    {
     "name": "stdout",
     "output_type": "stream",
     "text": [
      "9\n"
     ]
    }
   ],
   "source": [
    "classes = ('bus', 'car', 'truck')\n",
    "num_classes = 3\n",
    "epochs = 50\n",
    "lr = 0.01\n",
    "batch_size = 128\n",
    "device = torch.device(\"cuda:0\")\n",
    "vehicles_trainloader = torch.utils.data.DataLoader(train_dataset, batch_size=batch_size, shuffle=True, num_workers=0)\n",
    "vehicles_testloader = torch.utils.data.DataLoader(test_dataset, batch_size=batch_size, shuffle=True, num_workers=0)\n",
    "print(len(vehicles_trainloader))\n",
    "net = ResNet(ResidualBlock).to(device)\n",
    "criterion = nn.CrossEntropyLoss()\n",
    "optimizer = torch.optim.Adam(net.parameters(), lr=lr)"
   ]
  },
  {
   "cell_type": "code",
   "execution_count": 106,
   "id": "1c9e7dcb",
   "metadata": {},
   "outputs": [
    {
     "name": "stdout",
     "output_type": "stream",
     "text": [
      "epoch:0\t train_loss:1.8372\ttrain_acc:0.5308755760368664\ttest_loss:2443.4877\t test_acc0.5735294117647058\n",
      "epoch:1\t train_loss:0.7084\ttrain_acc:0.7059907834101382\ttest_loss:1382.3260\t test_acc0.5735294117647058\n",
      "epoch:2\t train_loss:0.5604\ttrain_acc:0.8009216589861751\ttest_loss:15.3439\t test_acc0.6323529411764706\n",
      "epoch:3\t train_loss:0.4405\ttrain_acc:0.8341013824884793\ttest_loss:1.1252\t test_acc0.7904411764705882\n",
      "epoch:4\t train_loss:0.3408\ttrain_acc:0.8792626728110599\ttest_loss:2.7403\t test_acc0.7389705882352942\n",
      "epoch:5\t train_loss:0.3038\ttrain_acc:0.8866359447004608\ttest_loss:0.8302\t test_acc0.7279411764705882\n",
      "epoch:6\t train_loss:0.2888\ttrain_acc:0.8930875576036866\ttest_loss:0.3167\t test_acc0.8529411764705882\n",
      "epoch:7\t train_loss:0.2431\ttrain_acc:0.9161290322580645\ttest_loss:0.2414\t test_acc0.8639705882352942\n",
      "epoch:8\t train_loss:0.2418\ttrain_acc:0.9142857142857143\ttest_loss:0.2484\t test_acc0.9154411764705882\n",
      "epoch:9\t train_loss:0.2150\ttrain_acc:0.9207373271889401\ttest_loss:0.4566\t test_acc0.8308823529411765\n",
      "epoch:10\t train_loss:0.2816\ttrain_acc:0.9244239631336405\ttest_loss:0.5409\t test_acc0.7977941176470589\n",
      "epoch:11\t train_loss:0.2141\ttrain_acc:0.9188940092165898\ttest_loss:0.2774\t test_acc0.8676470588235294\n",
      "epoch:12\t train_loss:0.1713\ttrain_acc:0.9336405529953917\ttest_loss:0.2751\t test_acc0.9044117647058824\n",
      "epoch:13\t train_loss:0.1400\ttrain_acc:0.9456221198156682\ttest_loss:0.1989\t test_acc0.9007352941176471\n",
      "epoch:14\t train_loss:0.1662\ttrain_acc:0.9373271889400921\ttest_loss:0.2487\t test_acc0.8933823529411765\n",
      "epoch:15\t train_loss:0.1677\ttrain_acc:0.9345622119815669\ttest_loss:0.2054\t test_acc0.9227941176470589\n",
      "epoch:16\t train_loss:0.1381\ttrain_acc:0.9483870967741935\ttest_loss:0.3173\t test_acc0.8823529411764706\n",
      "epoch:17\t train_loss:0.1118\ttrain_acc:0.9612903225806452\ttest_loss:0.3858\t test_acc0.8786764705882353\n",
      "epoch:18\t train_loss:0.1192\ttrain_acc:0.9576036866359448\ttest_loss:0.2300\t test_acc0.9154411764705882\n",
      "epoch:19\t train_loss:0.1161\ttrain_acc:0.9557603686635945\ttest_loss:0.5554\t test_acc0.8272058823529411\n",
      "epoch:20\t train_loss:0.0914\ttrain_acc:0.9714285714285714\ttest_loss:0.3656\t test_acc0.8860294117647058\n",
      "epoch:21\t train_loss:0.0808\ttrain_acc:0.9714285714285714\ttest_loss:0.4355\t test_acc0.8897058823529411\n",
      "epoch:22\t train_loss:0.0930\ttrain_acc:0.9714285714285714\ttest_loss:0.3687\t test_acc0.9117647058823529\n",
      "epoch:23\t train_loss:0.0711\ttrain_acc:0.9741935483870968\ttest_loss:0.1838\t test_acc0.9191176470588235\n",
      "epoch:24\t train_loss:0.0709\ttrain_acc:0.9723502304147466\ttest_loss:0.4967\t test_acc0.8823529411764706\n",
      "epoch:25\t train_loss:0.0812\ttrain_acc:0.9695852534562212\ttest_loss:0.2817\t test_acc0.9007352941176471\n",
      "epoch:26\t train_loss:0.0643\ttrain_acc:0.9797235023041475\ttest_loss:0.4036\t test_acc0.9007352941176471\n",
      "epoch:27\t train_loss:0.0596\ttrain_acc:0.9806451612903225\ttest_loss:0.3117\t test_acc0.9080882352941176\n",
      "epoch:28\t train_loss:0.0435\ttrain_acc:0.9843317972350231\ttest_loss:0.2717\t test_acc0.9227941176470589\n",
      "epoch:29\t train_loss:0.0496\ttrain_acc:0.9861751152073732\ttest_loss:0.4793\t test_acc0.875\n",
      "epoch:30\t train_loss:0.0609\ttrain_acc:0.9788018433179724\ttest_loss:0.4739\t test_acc0.9264705882352942\n",
      "epoch:31\t train_loss:0.0549\ttrain_acc:0.9824884792626728\ttest_loss:0.2377\t test_acc0.9080882352941176\n",
      "epoch:32\t train_loss:0.0535\ttrain_acc:0.9843317972350231\ttest_loss:0.2832\t test_acc0.9227941176470589\n",
      "epoch:33\t train_loss:0.0839\ttrain_acc:0.9741935483870968\ttest_loss:0.4473\t test_acc0.9080882352941176\n",
      "epoch:34\t train_loss:0.0613\ttrain_acc:0.9788018433179724\ttest_loss:0.2239\t test_acc0.9301470588235294\n",
      "epoch:35\t train_loss:0.0350\ttrain_acc:0.9870967741935484\ttest_loss:0.2690\t test_acc0.9411764705882353\n",
      "epoch:36\t train_loss:0.0218\ttrain_acc:0.9898617511520738\ttest_loss:0.3232\t test_acc0.9264705882352942\n",
      "epoch:37\t train_loss:0.0318\ttrain_acc:0.9898617511520738\ttest_loss:0.3651\t test_acc0.9227941176470589\n",
      "epoch:38\t train_loss:0.0287\ttrain_acc:0.9898617511520738\ttest_loss:0.3290\t test_acc0.9338235294117647\n",
      "epoch:39\t train_loss:0.0302\ttrain_acc:0.9907834101382489\ttest_loss:0.2859\t test_acc0.9191176470588235\n",
      "epoch:40\t train_loss:0.0443\ttrain_acc:0.9898617511520738\ttest_loss:0.5543\t test_acc0.8897058823529411\n",
      "epoch:41\t train_loss:0.0536\ttrain_acc:0.9834101382488479\ttest_loss:0.2472\t test_acc0.9191176470588235\n",
      "epoch:42\t train_loss:0.0328\ttrain_acc:0.9889400921658986\ttest_loss:0.5004\t test_acc0.9375\n",
      "epoch:43\t train_loss:0.0556\ttrain_acc:0.9935483870967742\ttest_loss:0.2298\t test_acc0.9301470588235294\n",
      "epoch:44\t train_loss:0.0234\ttrain_acc:0.992626728110599\ttest_loss:0.2294\t test_acc0.9154411764705882\n",
      "epoch:45\t train_loss:0.0195\ttrain_acc:0.9953917050691244\ttest_loss:0.3404\t test_acc0.9080882352941176\n",
      "epoch:46\t train_loss:0.0243\ttrain_acc:0.992626728110599\ttest_loss:0.2706\t test_acc0.9301470588235294\n",
      "epoch:47\t train_loss:0.0206\ttrain_acc:0.992626728110599\ttest_loss:0.3581\t test_acc0.9264705882352942\n",
      "epoch:48\t train_loss:0.0217\ttrain_acc:0.9917050691244239\ttest_loss:0.6335\t test_acc0.9007352941176471\n",
      "epoch:49\t train_loss:0.0163\ttrain_acc:0.9953917050691244\ttest_loss:0.9723\t test_acc0.9007352941176471\n"
     ]
    }
   ],
   "source": [
    "train_loss_list = []\n",
    "train_acc_list = []\n",
    "test_loss_list = []\n",
    "test_acc_list = []\n",
    "\n",
    "for epoch in range(epochs):\n",
    "\ttrain_loss, train_acc = train_epoch(net, data_loader=vehicles_trainloader, device=device)\n",
    "\ttest_loss, test_acc = test_epoch(net, data_loader=vehicles_testloader, device=device)\n",
    "\ttrain_loss_list.append(train_loss)\n",
    "\ttrain_acc_list.append(train_acc)\n",
    "\ttest_loss_list.append(test_loss)\n",
    "\ttest_acc_list.append(test_acc)\n",
    "\tprint(f\"epoch:{epoch}\\t train_loss:{train_loss:.4f}\\t\"\n",
    "\tf\"train_acc:{train_acc}\\t\"\n",
    "\tf\"test_loss:{test_loss:.4f}\\t test_acc{test_acc}\")"
   ]
  },
  {
   "cell_type": "markdown",
   "id": "65dc2b70",
   "metadata": {},
   "source": [
    "#### 绘制曲线"
   ]
  },
  {
   "cell_type": "markdown",
   "id": "c6c7d566",
   "metadata": {},
   "source": [
    "LOSS曲线"
   ]
  },
  {
   "cell_type": "code",
   "execution_count": 52,
   "id": "6f4329e8",
   "metadata": {
    "scrolled": true
   },
   "outputs": [
    {
     "data": {
      "image/png": "[encoded data removed]",
      "text/plain": [
       "<Figure size 432x288 with 1 Axes>"
      ]
     },
     "metadata": {
      "needs_background": "light"
     },
     "output_type": "display_data"
    }
   ],
   "source": [
    "epoch_list = np.arange(1, 51)\n",
    "plt.plot(epoch_list, train_loss_list, color='red', linewidth=1.0, label='Train')\n",
    "plt.plot(epoch_list, test_loss_list, color='blue', linewidth=1.0, label='Test')\n",
    "plt.xlabel('Epochs')\n",
    "plt.ylabel('Loss')\n",
    "plt.legend()\n",
    "plt.show()"
   ]
  },
  {
   "cell_type": "markdown",
   "id": "486bdab3",
   "metadata": {},
   "source": [
    "ACCURACY曲线"
   ]
  },
  {
   "cell_type": "code",
   "execution_count": 53,
   "id": "3bcc593c",
   "metadata": {},
   "outputs": [
    {
     "data": {
      "image/png": "[encoded data removed]",
      "text/plain": [
       "<Figure size 432x288 with 1 Axes>"
      ]
     },
     "metadata": {
      "needs_background": "light"
     },
     "output_type": "display_data"
    }
   ],
   "source": [
    "plt.plot(epoch_list, train_acc_list, color='red', linewidth=1.0, label='Train')\n",
    "plt.plot(epoch_list, test_acc_list, color='blue', linewidth=1.0, label='Test')\n",
    "plt.xlabel('Epochs')\n",
    "plt.ylabel('Accuracy')\n",
    "plt.legend()\n",
    "plt.show()"
   ]
  },
  {
   "cell_type": "markdown",
   "id": "9fd0a017",
   "metadata": {},
   "source": [
    " ## 3.3结果分析\n",
    "1. 残差网络的训练时间相对较快，在有较多隐藏层的结构下仍然与普通卷积网络相近。对于模型的精度和LOSS曲线，是这三种模型中表现最好的，train acc高达0.99且没有发生过拟合，在验证集上的精度仍然高达0.91左右，表现很好，应该是计算残差防止其出现过拟合。从loss曲线来看，train loss起始值就很低，而test loss下降的很迅速且一直很平稳。\n"
   ]
  },
  {
   "cell_type": "markdown",
   "id": "bde4d2df",
   "metadata": {},
   "source": [
    "# A1 实验心得\n",
    "\n",
    "> 1. 实验四的主要是在二维卷积神经网络上展开的，相比前面的实验，本次实验很多模板都是共用的，课件上也有很多的详细步骤，，按照这些步骤很容易完成实验。\n",
    "> 2. 本次实验中主要的难点是理解卷积神经网络的基本原理和步骤，根据P学过的内容和PPT例子，不难理解。\n",
    "> 3. 实验中空洞卷积神经网络比较困难，自己也是摸索了很长时间才完成。\n",
    "> 4. 对于二维卷积实验结果中出现的过拟合现象，我思考过进行打乱数据集，应该能得到更好的结果。\n",
    "> 5.由于时间关系，自己只选用了车辆数据集，没有使用去雾数据集，自己课后会花更多的时间在上面，进行测试。\n",
    "\n",
    "# A2 参考文献\n",
    "\n",
    "> 主要包含实验过程中涉及到的参考资料或者借鉴别人的材料等，如果没有可以不写。\n",
    "\n",
    "1. 无"
   ]
  }
 ],
 "metadata": {
  "kernelspec": {
   "display_name": "Python 3 (ipykernel)",
   "language": "python",
   "name": "python3"
  },
  "language_info": {
   "codemirror_mode": {
    "name": "ipython",
    "version": 3
   },
   "file_extension": ".py",
   "mimetype": "text/x-python",
   "name": "python",
   "nbconvert_exporter": "python",
   "pygments_lexer": "ipython3",
   "version": "3.9.12"
  },
  "vscode": {
   "interpreter": {
    "hash": "b9a7738971779d3d3c0ffe1f49a04997973f6846e9d368317103c138eabae9bd"
   }
  }
 },
 "nbformat": 4,
 "nbformat_minor": 5
}
